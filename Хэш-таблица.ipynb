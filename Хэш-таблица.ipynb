{
 "cells": [
  {
   "cell_type": "markdown",
   "id": "1c460acb-6e6a-4f94-9960-74b6c1461d8f",
   "metadata": {},
   "source": [
    "#### Hash Table"
   ]
  },
  {
   "cell_type": "markdown",
   "id": "34ca8f88-898d-4d9a-a063-916ed2f94546",
   "metadata": {},
   "source": [
    "1. add - O(1)-но амортизированная из-за наличия колизий\n",
    "2. find\n",
    "3. delete"
   ]
  },
  {
   "cell_type": "code",
   "execution_count": null,
   "id": "90248556-1810-44c1-be29-e0826e5a843d",
   "metadata": {},
   "outputs": [],
   "source": [
    "#полиномиальный хэш?"
   ]
  },
  {
   "cell_type": "markdown",
   "id": "bf0abdcb-4f43-4d92-b7cf-c57e5db7883c",
   "metadata": {},
   "source": [
    "#### Задание 1 ( 1. Two Sum)"
   ]
  },
  {
   "cell_type": "code",
   "execution_count": null,
   "id": "a85b7e3f-0d1d-4b99-b6c0-0bdc913a6d79",
   "metadata": {},
   "outputs": [],
   "source": [
    "#есть ли такие два числа, которые в сумме равны target и вернуть их индексы\n",
    "#ключ- значение, value - индекс"
   ]
  },
  {
   "cell_type": "code",
   "execution_count": null,
   "id": "a6d277fd-485b-4fe4-afd3-86b712c5bec6",
   "metadata": {},
   "outputs": [],
   "source": [
    "class Solution:\n",
    "    # time: O(n)\n",
    "    # mem(доп): O(n)\n",
    "    def twoSum(self, nums: List[int], target: int) -> List[int]:\n",
    "        exist_nums = {} # ключ - число которое встретилось, а значение - на какой позиции встретилось\n",
    "        for i, first_num in enumerate(nums):\n",
    "            # first_num + second_num = target\n",
    "            # у нас есть first_num и target, поэтому можем найти second_num и проверить что уже встречали его\n",
    "            # если не встречали - идем дальше\n",
    "            second_num = target - first_num\n",
    "            if second_num in exist_nums:\n",
    "                return (exist_nums[second_num], i)\n",
    "            exist_nums[first_num] = i\n",
    "        return []"
   ]
  },
  {
   "cell_type": "markdown",
   "id": "a59951ea-f544-40d1-8a96-7dfe89d00d94",
   "metadata": {},
   "source": [
    "#### Задание 2 (36. Valid Sudoku)"
   ]
  },
  {
   "cell_type": "code",
   "execution_count": null,
   "id": "fe2ba6dd-4f4a-4ceb-8cbb-4db22d327e42",
   "metadata": {},
   "outputs": [],
   "source": [
    "#есть поле 9*9, и игра судоку, нужно вывести что все цифры правильно расставлены \n",
    "#для строк (6,6)-номер строки, значение\n",
    "#для стобцов аналогично\n",
    "#для квадратов - i//3*3+j//3"
   ]
  },
  {
   "cell_type": "code",
   "execution_count": null,
   "id": "3d9437f2-12fa-42fa-a6bb-b6191f654ce0",
   "metadata": {},
   "outputs": [],
   "source": [
    "class Solution:\n",
    "    # time: (n * n)\n",
    "    # mem:  (n * n)\n",
    "    # Note: Оптимально O(n) по памяти, но доска имеет размер 9x9 поэтому нет\n",
    "    # смысла в оптимизации т к сложность по факту будет O(1)\n",
    "    def isValidSudoku(self, board: List[List[str]]) -> bool:\n",
    "        # тут храним пару (номер строки, значение)\n",
    "        rows = set()\n",
    "        # тут храним пару (номер колонки, значение)\n",
    "        cols = set()\n",
    "        # тут храним пару (номер блока, значение)\n",
    "        blocks = set()\n",
    "        for i in range(len(board)):\n",
    "            for j in range(len(board[0])):\n",
    "                val = board[i][j]\n",
    "                if val == \".\":\n",
    "                    continue\n",
    "                blockIdx = i // 3 * 3 + j //3\n",
    "                # если у нас уже есть такой элемент в строке/столбце/блоке\n",
    "                # значит невалидное судоку\n",
    "                if (i, val) in rows or (j, val) in cols or (blockIdx, val) in blocks:\n",
    "                    return False\n",
    "                rows.add((i, val))\n",
    "                cols.add((j, val))\n",
    "                blocks.add((blockIdx, val))\n",
    "        return True"
   ]
  },
  {
   "cell_type": "markdown",
   "id": "67694c3b-1673-454f-b2a8-5488116e0b1c",
   "metadata": {},
   "source": [
    "#### Задание 3 (205. Isomorphic Strings)"
   ]
  },
  {
   "cell_type": "code",
   "execution_count": null,
   "id": "378a45f1-ac8b-43f2-bea2-1b0cf64e664f",
   "metadata": {},
   "outputs": [],
   "source": [
    "#есть две строки, нужно сказать изоморфны ли они\n",
    "#изоморфны- один символ строго соответствует символу из другой строки\n",
    "#ключ - значение из строки S, значение - чему она соответствует в строке T"
   ]
  },
  {
   "cell_type": "code",
   "execution_count": null,
   "id": "7ef8b485-8559-4c46-be1b-ca10dc0cb958",
   "metadata": {},
   "outputs": [],
   "source": [
    "class Solution:\n",
    "    # time: O(n)\n",
    "    # mem:  O(n)\n",
    "    def isIsomorphic(self, s: str, t: str) -> bool:\n",
    "        # sDict - ключ: символ строки s,\n",
    "        #          val: сопоставленный символ из t\n",
    "\n",
    "        # tDict - ключ: символ строки t,\n",
    "        #          val: сопоставленный символ из s\n",
    "\n",
    "        # Note: используем 2 словоря, чтобы покрыть как случай\n",
    "        # s = \"abc\" t = \"aba\"\n",
    "        # так и случай\n",
    "        # t = \"abc\" s = \"aba\"\n",
    "        # при этом 2 словоря не обязательно, можно просто в 2\n",
    "        # цикла сделать\n",
    "        sDict, tDict = {}, {}\n",
    "        for i in range(len(s)):\n",
    "            if s[i] in sDict and sDict[s[i]] != t[i]:\n",
    "                return False\n",
    "            if t[i] in tDict and tDict[t[i]] != s[i]:\n",
    "                return False\n",
    "            sDict[s[i]] = t[i]\n",
    "            tDict[t[i]] = s[i]\n",
    "        return True"
   ]
  },
  {
   "cell_type": "markdown",
   "id": "2f60f7f3-c62a-46a5-b13f-a60da333a65c",
   "metadata": {},
   "source": [
    "#### Задание 4 (Line Reflection)"
   ]
  },
  {
   "cell_type": "code",
   "execution_count": null,
   "id": "b4ff1c4f-6c92-4f49-842b-43305d2475d8",
   "metadata": {},
   "outputs": [],
   "source": [
    "#есть координатные оси\n",
    "# можно ли провести какую-то прямую, чтоб какой-то точке соответствовала другая точка\n",
    "#то есть y одинаковые, а x на одинаковом расстоянии до прямой"
   ]
  },
  {
   "cell_type": "code",
   "execution_count": null,
   "id": "6af3f53f-1d74-475d-9530-0e5afe168fac",
   "metadata": {},
   "outputs": [],
   "source": [
    "class Solution:\n",
    "    # time: O(n)\n",
    "    # mem:  O(n)\n",
    "    def isReflected(self, points: List[List[int]]) -> bool:\n",
    "        # находим минимальный и максимальный X\n",
    "        maxX = max(x for x, y in points)\n",
    "        minX = min(x for x, y in points)\n",
    "        # avgX = (maxX + minX) / 2\n",
    " \n",
    "        # сделали словарь, чтобы проверять наличие точки за O(1)\n",
    "        points = {(x, y) for x, y in points}\n",
    "        for x, y in points:\n",
    "            # maxX + minX - x = 2 * avgX - x\n",
    "            # чтобы проходило тесты с [[0, 0], [1, 0]]\n",
    "            # (2 * avgX - x) -> формула нахождения противоположной координаты\n",
    "            # если есть minX = 1, maxX=5, а текуший x = 2, то \"2 * avgX - x = 4\"\n",
    "            if (maxX + minX - x, y) not in points: return False \n",
    "        return True"
   ]
  },
  {
   "cell_type": "markdown",
   "id": "9070c61c-f59c-44e2-b1bb-95bb6890d3f3",
   "metadata": {},
   "source": [
    "### Кеши"
   ]
  },
  {
   "cell_type": "markdown",
   "id": "f19c5b16-f9a3-4d72-a136-52a0425414b4",
   "metadata": {},
   "source": [
    "#### Задание 5 (146. LRU Cache)"
   ]
  },
  {
   "cell_type": "markdown",
   "id": "3ff6cb41-5c58-4726-8474-d14f343477f7",
   "metadata": {},
   "source": [
    "#### Задание 6 (2657. Find the Prefix Common Array of Two Arrays)"
   ]
  },
  {
   "cell_type": "code",
   "execution_count": null,
   "id": "4d7e9186-95fa-4dee-8fc1-b48561317088",
   "metadata": {},
   "outputs": [],
   "source": [
    "#Для каждого префикса сколько одинаковых элементов\n",
    "#\n",
    "#\n",
    "# "
   ]
  },
  {
   "cell_type": "code",
   "execution_count": null,
   "id": "3783173b-a696-443a-820e-2d2c8ce8a10c",
   "metadata": {},
   "outputs": [],
   "source": [
    "class Solution:\n",
    "    # time (worse): O(n * n), где n = len(A) = len(B)\n",
    "    # time (best + avg): O(n), где n = len(A) = len(B)\n",
    "    # mem: O(n)\n",
    "    # Note: решение не оптимально\n",
    "    def findThePrefixCommonArray(self, A: List[int], B: List[int]) -> List[int]:\n",
    "        setA = set()\n",
    "        setB = set()\n",
    "        result = []\n",
    "\n",
    "        for i in range(len(A)):\n",
    "            setA.add(A[i])\n",
    "            setB.add(B[i])\n",
    "\n",
    "            # time(setA.intersection(setB))\n",
    "            # worse: O(n * n)\n",
    "            # best:  O(n)\n",
    "            commonElementsCount = len(setA.intersection(setB))\n",
    "            result.append(commonElementsCount)\n",
    "        return result"
   ]
  },
  {
   "cell_type": "code",
   "execution_count": null,
   "id": "99a17c35-48ea-4552-8d71-896991221763",
   "metadata": {},
   "outputs": [],
   "source": [
    "class Solution:\n",
    "    # time: O(n * n)\n",
    "    # mem: O(n)\n",
    "    # Note: решение не оптимально\n",
    "    def findThePrefixCommonArray(self, A: List[int], B: List[int]) -> List[int]:\n",
    "        # теперь в качестве set-а, будем использовать массив\n",
    "        # т к 1 <= A[i], B[i] <= n\n",
    "        setA = [False for _ in range(len(A) + 1)]\n",
    "        setB = [False for _ in range(len(B) + 1)]\n",
    "        result = []\n",
    "\n",
    "        for i in range(len(A)):\n",
    "            setA[A[i]] = True\n",
    "            setB[B[i]] = True\n",
    "\n",
    "            # пересечение множеств O(n)\n",
    "            commonElementsCount = 0\n",
    "            for j in range(len(setA)):\n",
    "                commonElementsCount += int(setA[j] and setB[j])\n",
    "\n",
    "            result.append(commonElementsCount)\n",
    "        return result"
   ]
  },
  {
   "cell_type": "code",
   "execution_count": null,
   "id": "cb0bc43c-3bea-435c-9389-0edcddb8ede0",
   "metadata": {},
   "outputs": [],
   "source": [
    "class Solution:\n",
    "    # time: O(n)\n",
    "    # mem: O(n)\n",
    "    def findThePrefixCommonArray(self, A: List[int], B: List[int]) -> List[int]:\n",
    "        # теперь в качестве set-а, будем использовать int\n",
    "        # т к 1 <= A[i], B[i] <= n\n",
    "        # т е.   если setA = 0000101100 (в 2 представлении),\n",
    "        # то это говорит, что в множестве setA есть элементы\n",
    "        # 2, 3, 5. (нумерация справа налево в \"0000101100\" начиная с 0)\n",
    "        setA = 0\n",
    "        setB = 0\n",
    "        result = []\n",
    "\n",
    "        for i in range(len(A)):\n",
    "\n",
    "            # тоже самое что и \"setA[A[i]] = True\" в прошлом решении\n",
    "            setA = setA | 1 << A[i]\n",
    "            setB = setB | 1 << B[i]\n",
    "\n",
    "            # пересечение множеств\n",
    "            commonElementsCount = 0\n",
    "            # setA & setB - это и есть пересечение множеств\n",
    "            \n",
    "            # если setA = \"101100\" (в двоичном предствалении)\n",
    "            # если setB = \"111000\" (в двоичном предствалении)\n",
    "            # то setA & setB это:\n",
    "            #             \"101000\"\n",
    "            num = setA & setB\n",
    "            # в чикле считаем число едениц для числа setA & setB\n",
    "            # и таким образом понимаем сколько общих чисел\n",
    "            while num != 0:\n",
    "                commonElementsCount += num % 2\n",
    "                num //= 2\n",
    "            result.append(commonElementsCount)\n",
    "        return result"
   ]
  },
  {
   "cell_type": "code",
   "execution_count": null,
   "id": "ebe1c7a8-22d0-4086-8d38-f152e644e049",
   "metadata": {},
   "outputs": [],
   "source": [
    "class Solution:\n",
    "    # time: O(n)\n",
    "    # mem: O(n)\n",
    "    def findThePrefixCommonArray(self, a: List[int], b: List[int]) -> List[int]:\n",
    "\n",
    "        result = []\n",
    "        setA = set()\n",
    "        setB = set()\n",
    "        currentIntersectionCnt = 0\n",
    "\n",
    "        for i in range(len(a)):\n",
    "            if b[i] in setA:\n",
    "                currentIntersectionCnt += 1\n",
    "            \n",
    "            if a[i] in setB:\n",
    "                currentIntersectionCnt += 1\n",
    "            \n",
    "            if a[i] == b[i]:\n",
    "                currentIntersectionCnt += 1\n",
    "\n",
    "            setA.add(a[i])\n",
    "            setB.add(b[i])\n",
    "\n",
    "            result.append(currentIntersectionCnt)\n",
    "        return result"
   ]
  },
  {
   "cell_type": "code",
   "execution_count": null,
   "id": "a8eae244-0c02-402d-9981-c3f46baf5477",
   "metadata": {},
   "outputs": [],
   "source": []
  },
  {
   "cell_type": "code",
   "execution_count": null,
   "id": "2427a801-52cc-4706-b72c-ac4a120fa92f",
   "metadata": {},
   "outputs": [],
   "source": []
  }
 ],
 "metadata": {
  "kernelspec": {
   "display_name": "Python 3 (ipykernel)",
   "language": "python",
   "name": "python3"
  },
  "language_info": {
   "codemirror_mode": {
    "name": "ipython",
    "version": 3
   },
   "file_extension": ".py",
   "mimetype": "text/x-python",
   "name": "python",
   "nbconvert_exporter": "python",
   "pygments_lexer": "ipython3",
   "version": "3.9.7"
  }
 },
 "nbformat": 4,
 "nbformat_minor": 5
}
