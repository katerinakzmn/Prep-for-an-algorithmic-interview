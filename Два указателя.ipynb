{
 "cells": [
  {
   "cell_type": "markdown",
   "id": "a572cf5c-edcb-4d55-93a9-b9a4ced1d245",
   "metadata": {},
   "source": [
    "#### Задача 1 (977. Squares of a Sorted Array)"
   ]
  },
  {
   "cell_type": "markdown",
   "id": "b818fa36-c367-4d76-97b8-3a17dad760c3",
   "metadata": {},
   "source": [
    "Отсортированный массив, нужно возвести все элементы в квадрат и отсортировать"
   ]
  },
  {
   "cell_type": "code",
   "execution_count": null,
   "id": "ac867f17-b2e2-4f6d-8959-168353754df0",
   "metadata": {},
   "outputs": [],
   "source": [
    "class Solution:\n",
    "    # time: O(n)\n",
    "    # mem(доп): O(n)\n",
    "    def sortedSquares(self, nums: List[int]) -> List[int]:\n",
    "        result = [] # тут храним массив квадратов в убывающем порядке\n",
    "        p1 = 0 # указывает на начало массива\n",
    "        p2 = len(nums) - 1 # указывает на конец массива\n",
    "        while p1 <= p2:\n",
    "            # больший элемент добавляем в конец ответа и двигаем указатель\n",
    "            if abs(nums[p1]) > abs(nums[p2]):\n",
    "                result.append(nums[p1] ** 2)\n",
    "                p1 += 1\n",
    "            else:\n",
    "                result.append(nums[p2] ** 2)\n",
    "                p2 -= 1\n",
    "        return reversed(result) # из убывающего делаем возрастающий"
   ]
  },
  {
   "cell_type": "code",
   "execution_count": null,
   "id": "d7cd813c-6cb2-4e09-ad60-05806e6af3d4",
   "metadata": {},
   "outputs": [],
   "source": [
    "#лучше высчитать сколько элементов в массиве и ставить сразу в конец, а не реверсить"
   ]
  },
  {
   "cell_type": "markdown",
   "id": "9f217d7a-38ea-4480-b120-5291bc8f0625",
   "metadata": {},
   "source": [
    "#### Задача 2 (283. Move Zeroes)"
   ]
  },
  {
   "cell_type": "code",
   "execution_count": null,
   "id": "faec61ac-5575-4166-a0a1-31d5e1c871a7",
   "metadata": {},
   "outputs": [],
   "source": [
    "class Solution:\n",
    "    # time: O(n)\n",
    "    # mem: O(1)\n",
    "    def moveZeroes(self, nums: List[int]) -> None:\n",
    "        # Note: задача может формулироваться как \"удалить все 0 из массива\"\n",
    "        # тут смысл такой же, просто делаем resize в конце или попаем (зависит от ЯП)\n",
    "\n",
    "        freeIdx = 0 # указывает на какую позицию поставим следующий элемент не равный 0\n",
    "        for num in nums:\n",
    "            if num == 0:\n",
    "                continue\n",
    "            nums[freeIdx] = num\n",
    "            freeIdx += 1\n",
    "        \n",
    "        for i in range(freeIdx, len(nums)):\n",
    "            nums[i] = 0"
   ]
  },
  {
   "cell_type": "markdown",
   "id": "d0c2d927-fe98-43a2-a9e1-fb0626adb08a",
   "metadata": {},
   "source": [
    "#### Задача 3 (125. Valid Palindrome)"
   ]
  },
  {
   "cell_type": "code",
   "execution_count": null,
   "id": "f8e298e5-d610-4408-aec7-1ddc19be6225",
   "metadata": {},
   "outputs": [],
   "source": [
    "class Solution:\n",
    "    # time:     O(n)\n",
    "    # mem(доп): O(1)\n",
    "    def isPalindrome(self, s: str) -> bool:\n",
    "        l = 0\n",
    "        r = len(s) - 1\n",
    "        while l < r:\n",
    "            # переходим к следующей букве пока l и r\n",
    "            # не будут указывать на буквы или цифры\n",
    "            if not s[l].isalnum():\n",
    "                l += 1\n",
    "                continue\n",
    "            if not s[r].isalnum():\n",
    "                r -= 1\n",
    "                continue\n",
    "            \n",
    "            # оба символа - буквы или цифры\n",
    "            if s[l].lower() != s[r].lower():\n",
    "                return False\n",
    "            l += 1\n",
    "            r -= 1\n",
    "        return True"
   ]
  },
  {
   "cell_type": "markdown",
   "id": "98fb5844-844e-4f35-ae4e-04f6b8c4711b",
   "metadata": {},
   "source": [
    "#### Задача 4 (Intersection Of Sorted Arrays)"
   ]
  },
  {
   "cell_type": "code",
   "execution_count": null,
   "id": "e02a6bd4-f2d6-4688-85e2-da16940cd68c",
   "metadata": {},
   "outputs": [],
   "source": [
    "class Solution:\n",
    "    # time: O(n + m)\n",
    "    # mem: O(min(n, m))\n",
    "    def intersect(self, A, B):\n",
    "        p1 = 0\n",
    "        p2 = 0\n",
    "        res = []\n",
    "        # т к мы можем иметь дубликаты то на каждой итерации сравниваем на\n",
    "        # равестно и если равны двигаем оба указателя и прибавляем ответ\n",
    "        # иначе двигаем указатель который указывает на меньшее значение\n",
    "        while p1 < len(A) and p2 < len(B):\n",
    "            if A[p1] > B[p2]:\n",
    "                p2 += 1\n",
    "            elif A[p1] < B[p2]:\n",
    "                p1 += 1\n",
    "            else:\n",
    "                res.append(A[p1])\n",
    "                p1 += 1\n",
    "                p2 += 1\n",
    "        return res"
   ]
  },
  {
   "cell_type": "markdown",
   "id": "0108fb72-ead5-4317-8bb2-9a0eb815d361",
   "metadata": {},
   "source": [
    "#### Задача 5 (167. Two Sum II - Input Array Is Sorted)"
   ]
  },
  {
   "cell_type": "code",
   "execution_count": null,
   "id": "944b5607-2a64-4e3b-bdb9-b52261a33f1c",
   "metadata": {},
   "outputs": [],
   "source": [
    "class Solution:\n",
    "    # time: O(n)\n",
    "    # mem (дополнительная): O(1)\n",
    "    def twoSum(self, numbers: List[int], target: int) -> List[int]:\n",
    "        p1 = 0\n",
    "        p2 = len(numbers) - 1\n",
    "        while p1 < p2:\n",
    "            curr_sum = numbers[p1] + numbers[p2]\n",
    "            if curr_sum == target:\n",
    "                return p1 + 1, p2 + 1\n",
    "            elif curr_sum < target:\n",
    "                # если текущая сумма меньше target то увеличиваем ее за счет сдвига p1\n",
    "                p1 += 1\n",
    "            else:\n",
    "                # если текущая сумма больше target то уменьшаем ее за счет сдвига p2\n",
    "                p2 -= 1\n",
    "        return [-1, -1]"
   ]
  },
  {
   "cell_type": "markdown",
   "id": "95c29edc-812c-4cc0-adfb-67765455ada2",
   "metadata": {},
   "source": [
    "#### Задача 6 (11. Container With Most Water)"
   ]
  },
  {
   "cell_type": "code",
   "execution_count": null,
   "id": "4e691709-1528-419a-b784-7348620687eb",
   "metadata": {},
   "outputs": [],
   "source": [
    "#есть некоторые столбы, нужно выбрать два из них, чтоб было максимальное кол-во воды\n",
    "#имеет смысл двигать только указатель меньшей длины"
   ]
  },
  {
   "cell_type": "code",
   "execution_count": null,
   "id": "73e7cd45-8096-428b-be90-087ba538264e",
   "metadata": {},
   "outputs": [],
   "source": [
    "class Solution:\n",
    "    # time: O(n)\n",
    "    # mem (дополнительная): O(1)\n",
    "    def maxArea(self, height: List[int]) -> int:\n",
    "        l = 0\n",
    "        r = len(height) - 1\n",
    "        result_area = 0\n",
    "        while l < r:\n",
    "            curr_area = min(height[l], height[r]) * (r - l)\n",
    "            result_area = max(result_area, curr_area)\n",
    "            # Сдвигаем указатель, который указывает на меньшую высоту\n",
    "            if height[l] < height[r]:\n",
    "                l += 1\n",
    "            else:\n",
    "                r -= 1\n",
    "        return result_area"
   ]
  },
  {
   "cell_type": "markdown",
   "id": "32b769d4-fc51-46df-84fb-bd82bfb5d7ae",
   "metadata": {},
   "source": [
    "#### Задача 7 (161. One edit distance (leetcode premium))"
   ]
  },
  {
   "cell_type": "code",
   "execution_count": null,
   "id": "9cbc34f4-ea55-42d5-ad99-a5dabeb74267",
   "metadata": {},
   "outputs": [],
   "source": [
    "#есть две строки, можем ли мы из одной строки получить другую\n",
    "#можем один раз вставить, удалить или заменить символ\n",
    "#когда одинаковые строки, то мы не сможем получить другую строку"
   ]
  },
  {
   "cell_type": "code",
   "execution_count": null,
   "id": "e188b16a-a7a5-4be2-8ed2-e62f803350ab",
   "metadata": {},
   "outputs": [],
   "source": [
    "class Solution:\n",
    "    def isOneEditDistance(self, s: str, t: str) -> bool:\n",
    "        if len(t) > len(s):\n",
    "            # меняем строки местами, что s была всегда больше t\n",
    "            return self.isOneEditDistance(t, s)\n",
    "        \n",
    "        # не асимптотическая оптимизация\n",
    "        if len(s) - len(t) > 1:\n",
    "            return False\n",
    "        \n",
    "        for i in range(0, len(t)):\n",
    "            if s[i] == t[i]:\n",
    "                continue\n",
    "            if len(s) == len(t):\n",
    "                # операция replace\n",
    "                return s[i + 1:] == t[i + 1:]\n",
    "            # операция delete\n",
    "            return s[i + 1:] == t[i:]\n",
    "        \n",
    "        # заходим если первые len(t) символов совпали в строках\n",
    "        # в таком случае если len(s) == len(t) нужно вернть false\n",
    "        # т.к. нам обязательно нужно применить одну из операций\n",
    "        return len(t) + 1 == len(s)"
   ]
  },
  {
   "cell_type": "code",
   "execution_count": null,
   "id": "69866736-6d56-4717-bfe4-163d688bf512",
   "metadata": {},
   "outputs": [],
   "source": []
  }
 ],
 "metadata": {
  "kernelspec": {
   "display_name": "Python 3 (ipykernel)",
   "language": "python",
   "name": "python3"
  },
  "language_info": {
   "codemirror_mode": {
    "name": "ipython",
    "version": 3
   },
   "file_extension": ".py",
   "mimetype": "text/x-python",
   "name": "python",
   "nbconvert_exporter": "python",
   "pygments_lexer": "ipython3",
   "version": "3.9.7"
  }
 },
 "nbformat": 4,
 "nbformat_minor": 5
}
