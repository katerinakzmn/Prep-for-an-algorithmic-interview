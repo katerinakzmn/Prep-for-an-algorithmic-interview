{
 "cells": [
  {
   "cell_type": "markdown",
   "id": "caa6cb82-c314-4917-9cca-9c157f13af92",
   "metadata": {},
   "source": [
    "### Лекция по интервалам"
   ]
  },
  {
   "cell_type": "markdown",
   "id": "76215264-0b76-43b5-86f2-0a69882a400b",
   "metadata": {},
   "source": [
    "Как определить что интервалы пересекаются?[a1,b1], [a2,b2]\n",
    "max(a1,a2) <=  min(b1,b2)\n",
    "А чтоб найти отрезок?\n",
    "[max(a1,a2),min(b1,b2)]\n",
    "Как объединять интервалы?\n",
    "[min(a1,a2),max(b1,b2)]"
   ]
  },
  {
   "cell_type": "markdown",
   "id": "1843649e-7c32-40d2-9864-072da3b70d98",
   "metadata": {
    "jp-MarkdownHeadingCollapsed": true
   },
   "source": [
    "#### Задача 1 (56. Merge Intervals)"
   ]
  },
  {
   "cell_type": "code",
   "execution_count": null,
   "id": "3bfb6716-a163-4c2b-88e4-65d21ab3db55",
   "metadata": {},
   "outputs": [],
   "source": [
    "class Solution:\n",
    "    # проверяем пересекаются ли интервалы\n",
    "    def is_overlapping(self, a, b):\n",
    "        return max(a[0], b[0]) <= min(a[1], b[1])\n",
    "    \n",
    "    def merge_two_intervals(self, a, b):\n",
    "        # интервалы обязательно должны пересекаться\n",
    "        return [a[0], max(a[1], b[1])]\n",
    "\n",
    "    # time: O(N*logN)\n",
    "    # mem: O(n)\n",
    "    def merge(self, intervals: List[List[int]]) -> List[List[int]]:\n",
    "        # O(NlogN)\n",
    "        intervals.sort() # start <= end по условию (это важно)\n",
    "\n",
    "        result = []\n",
    "        result.append(intervals[0])\n",
    "\n",
    "        # O(n)\n",
    "        for i in range(1, len(intervals)):\n",
    "            interval = intervals[i]\n",
    "            # если текущий интервал и последний в ответе пересекаются,\n",
    "            # значит объединяем их, иначе добавляем интервал к ответу и это значит,\n",
    "            # что ни один интервал, который имеет точку начала меньше текущего интервала\n",
    "            # не будет пересечен ни с одним лежащим правее и не с текущим\n",
    "            if self.is_overlapping(result[-1], interval):\n",
    "                result[-1] = self.merge_two_intervals(result[-1], interval)\n",
    "            else:\n",
    "                result.append(interval)\n",
    "        return result"
   ]
  },
  {
   "cell_type": "markdown",
   "id": "890b8f90-a97b-478e-aa10-ed1cb9832f98",
   "metadata": {
    "jp-MarkdownHeadingCollapsed": true
   },
   "source": [
    "#### Задача 2 (Meeting Rooms)"
   ]
  },
  {
   "cell_type": "code",
   "execution_count": null,
   "id": "9132c90a-7ba8-49f0-9d67-fe2108260842",
   "metadata": {},
   "outputs": [],
   "source": [
    "#сколько комнат нужно забукать\n",
    "#метод точек - будем работать не с интервалами, а с точками\n",
    "(1,+1 - на начало интервала, -1 - на конец интервала)\n",
    "(1,+1),(2,+1),(3,-1),(5,-1),(5,+1),(7,-1),(10,+1),(15,-1)\n",
    "вхождение и не вхождение в интервал влияет на последовательность\n",
    "#компаратор?\n"
   ]
  },
  {
   "cell_type": "code",
   "execution_count": null,
   "id": "c82bd68f-591d-456e-b828-f1c5dd15ae10",
   "metadata": {},
   "outputs": [],
   "source": [
    "class Solution:\n",
    "    # @param A : list of list of integers\n",
    "    # @return an integer\n",
    "    \n",
    "    # time: O(n * log n)\n",
    "    # mem (дополнительной): O(n)\n",
    "    def solve(self, A):\n",
    "        points = []\n",
    "        for elem in A:\n",
    "            points.append([elem[0], +1]) # точка, +1 - что нужна еще одна комната\n",
    "            points.append([elem[1], -1]) # точка, -1 - что комната осободилась\n",
    " \n",
    "        points.sort() # [10, -1] будет перед [10, +1] - сначала комнаты особождают а потом занимают\n",
    "        max_room_numbers = 0\n",
    "        curr_room_numbers = 0\n",
    "        # для каждого момента времени находим используемое число комнат и выбираем максимальное значение\n",
    "        for point in points:\n",
    "            curr_room_numbers += point[1]\n",
    "            max_room_numbers = max(max_room_numbers, curr_room_numbers)\n",
    "        return max_room_numbersa"
   ]
  },
  {
   "cell_type": "markdown",
   "id": "40e4fe73-d4a0-4164-87ff-2659769ba860",
   "metadata": {
    "jp-MarkdownHeadingCollapsed": true
   },
   "source": [
    "#### Задача 3 (1094. Car Pooling)"
   ]
  },
  {
   "cell_type": "code",
   "execution_count": null,
   "id": "1d9cf356-cedb-4e5b-bf4b-93bc2e690cf3",
   "metadata": {},
   "outputs": [],
   "source": [
    "# аналогично предыдущей только пишем не +-1, а например +-3"
   ]
  },
  {
   "cell_type": "code",
   "execution_count": null,
   "id": "64a42674-0d56-4ea4-9744-2f49efa9a3dc",
   "metadata": {},
   "outputs": [],
   "source": [
    "class Solution:\n",
    "    # time: O(n * log n) - тут самое долгое это сортировка\n",
    "    # mem: O(n)\n",
    "    def carPooling(self, trips: List[List[int]], capacity: int) -> bool:\n",
    "        points = []\n",
    "        for trip in trips:\n",
    "            # координата точки, сколько ЗАШЛО людей в этой координате\n",
    "            points.append([trip[1], trip[0]])\n",
    "            # координата точки, сколько ВЫШЛО людей в этой координате\n",
    "            # т к люди выходили то указываем их со знаком -\n",
    "            points.append([trip[2], -trip[0]])\n",
    "        # нам важно чтобы [1, -1] была раньше точки [1, 10]\n",
    "        # если [1, 10] до [1, -1], то получается что у нас сначало зашло 10 человек,\n",
    "        #     а потом вышел 1\n",
    "        # у нас же люди сначала выходят, а потом уже заходят новые, поэтому\n",
    "        #     [1, -1] сначала, а потом [1, 10]\n",
    "        # базовая сортировка обеспечит нужный порядок\n",
    "        points.sort()\n",
    "        curr_passangers_count = 0\n",
    "        # проходим и на каждой точке считаем сколько было пассажиров в каждый момент времени\n",
    "        # если в какой-то момент их больше, чем capacity, возвращаем False\n",
    "        for point in points:\n",
    "            curr_passangers_count += point[1]\n",
    "            if curr_passangers_count > capacity:\n",
    "                return False\n",
    "        return True"
   ]
  },
  {
   "cell_type": "markdown",
   "id": "f76b01f8-75a0-4d2d-9a89-f5ae16624e29",
   "metadata": {
    "jp-MarkdownHeadingCollapsed": true
   },
   "source": [
    "#### Задача 4 (452. Minimum Number of Arrows to Burst Balloons)"
   ]
  },
  {
   "cell_type": "code",
   "execution_count": null,
   "id": "943a9f53-58dc-4bb0-9e97-22b63f189dae",
   "metadata": {},
   "outputs": [],
   "source": [
    "#метод точек или интервала?\n",
    "#метод точек - максимальное число принадлежащее интервалу?\n",
    "#метод интервала - \n",
    "#по сути мы сортируем интервалы и для каждого интервала мы находим пересечение со следующим\n",
    "#и получившееся пересечение пересекаем со следующим интервалом"
   ]
  },
  {
   "cell_type": "code",
   "execution_count": null,
   "id": "58b42a8a-2cd3-48a8-a633-9f042bc55e84",
   "metadata": {},
   "outputs": [],
   "source": [
    "class Solution:\n",
    "    # проверяем пересекаются ли интервалы\n",
    "    def is_overlapping(self, a, b):\n",
    "        return max(a[0], b[0]) <= min(a[1], b[1])\n",
    "    \n",
    "    # интервалы обязательно должны пересекаться\n",
    "    def overlap_two_intervals(self, a, b):\n",
    "        return [max(a[0], b[0]), min(a[1], b[1])]\n",
    "\n",
    "    # time: O(n * log n)\n",
    "    # mem: O(1) при условии, что сортировка делается in-place (т е не создает доп массивы и т д)\n",
    "    #points-это интервал\n",
    "    def findMinArrowShots(self, points: List[List[int]]) -> int:\n",
    "        points.sort() # O(n * log n)\n",
    "        result = 1\n",
    "        last_point = points[0]\n",
    "        for point in points:\n",
    "            # если интервалы пересекаются, то для них используем 1 стрелу\n",
    "            # и стараемся набрать как можно больше интервалов под 1 стрелу\n",
    "            if self.is_overlapping(last_point, point):\n",
    "                last_point = self.overlap_two_intervals(last_point, point)\n",
    "                continue\n",
    "            # если нет пересичений значит нужна еще 1 доп стрела и обновляем\n",
    "            # последний интервал (last_point)\n",
    "            last_point = point\n",
    "            result += 1\n",
    "        return result"
   ]
  },
  {
   "cell_type": "markdown",
   "id": "e1c23841-5e20-4649-bcea-ab08a5215caa",
   "metadata": {
    "jp-MarkdownHeadingCollapsed": true
   },
   "source": [
    "#### Задача 5 (112542. Точки и отрезки)"
   ]
  },
  {
   "cell_type": "markdown",
   "id": "0fd2d3de-878f-4c66-aefd-a34813d1e0e1",
   "metadata": {},
   "source": [
    "n - отрезков, m - точек\n",
    "Для каждой точки надо найти количество отрезков, в которых она содержится\n",
    "Используем метод точек\n",
    "+1 - открытие отрезка\n",
    "-1 - закрытие отрезка\n",
    "0 - точка\n",
    "Точки не обязательно будут отсортированы\n",
    "Можно порядок точек держать в словаре, а более оптимально держать в самом значении точки\n",
    "т.е. например (3, 0, 0) - где последний 0 - это индекс в первоначальном списке"
   ]
  },
  {
   "cell_type": "code",
   "execution_count": null,
   "id": "1eb3b28a-711d-46a3-8769-b3d9559662c7",
   "metadata": {},
   "outputs": [],
   "source": [
    "# NOTE: решение на питоне не пройдет по памяти, но точно такое же решение на С++ зайдет\n",
    " \n",
    "n, m = map(int, input().split())\n",
    "# тут храним точки в следующем виде:\n",
    "# 1 - координата точки\n",
    "# 2 - +1 для начала отрезка, -1 для конца, 0 - записать текущую сумму в ответ\n",
    "# 3 - индекс куда пишем ответ (индекс исходной точки) - актуально когда 2 значение 0\n",
    "points = []\n",
    "# считываем отрезки и добавляем в массив points\n",
    "for _ in range(n):\n",
    "    a, b = sorted(map(int, input().split()))\n",
    "    points.append([a, +1, None])\n",
    "    points.append([b, -1, None])\n",
    " \n",
    "# считываем точки и добавляем в массив points\n",
    "in_points = list(map(int, input().split()))\n",
    "for i in range(len(in_points)):\n",
    "    points.append([in_points[i], 0, i])\n",
    " \n",
    "# сортируем так, чтобы для одной координаты (10) был такой порядок\n",
    "# [10, +1, ...], [10, 0, ...], [10, -1, ...]\n",
    "# ... - не важно что т к 3 аргумент не учавствует в сортировке\n",
    "# порядок именно такой т к мы сначала делаем все прибавления для текущей точки\n",
    "# затем фиксируем ответ и только потом убираем значения из ответа\n",
    "# порядок именно такой исходя из условия задачи\n",
    "points.sort(key=lambda x: (x[0], -x[1]))\n",
    " \n",
    "result = [None] * m\n",
    "curr_intervals_count = 0\n",
    "for point in points:\n",
    "    # point[1] == 0 -> значит это точка для которой фиксируем ответ\n",
    "    if point[1] == 0:\n",
    "        # result[point[2]] - чтобы поставить ответ в то место в на котором\n",
    "        # приходила точка в исходном массиве\n",
    "        result[point[2]] = curr_intervals_count\n",
    "    curr_intervals_count += point[1]\n",
    "print(*result) # выводим ответ"
   ]
  },
  {
   "cell_type": "markdown",
   "id": "754803eb-0a40-4528-a5b9-df95b673c14c",
   "metadata": {},
   "source": [
    "### Все задачки на интервалы прорешали, поэтому вернемся к массивам и задачкам Авито"
   ]
  },
  {
   "cell_type": "markdown",
   "id": "130e4e7c-82d8-4a2d-a5c9-c9be037dd610",
   "metadata": {
    "jp-MarkdownHeadingCollapsed": true
   },
   "source": [
    "#### Задача 6 (2. Add Two Numbers)"
   ]
  },
  {
   "cell_type": "code",
   "execution_count": null,
   "id": "16ed818c-8127-4cff-b9ed-16af61121a2b",
   "metadata": {},
   "outputs": [],
   "source": [
    "#[1,2,3]+[4,5,6]=[0,5,7,9]\n",
    "#[1,1,1]+[1]=[1,1,2]"
   ]
  },
  {
   "cell_type": "code",
   "execution_count": null,
   "id": "7770d1a1-cba8-40c0-b9f9-8c2cd29acf4e",
   "metadata": {},
   "outputs": [],
   "source": [
    "# Definition for singly-linked list.\n",
    "# class ListNode:\n",
    "#     def __init__(self, val=0, next=None):\n",
    "#         self.val = val\n",
    "#         self.next = next\n",
    "\n",
    "\n",
    "class Solution:\n",
    "    # time: O(n)\n",
    "    # mem:  O(n)\n",
    "    # Note: если разрешено менять входящие списки, то можно из них сделать\n",
    "    # ответ и доп память будет O(1)\n",
    "    def addTwoNumbers(self, l1: Optional[ListNode], l2: Optional[ListNode]) -> Optional[ListNode]:\n",
    "        dummy = ListNode()\n",
    "        # carry - остаток который будем переносить\n",
    "        carry = 0\n",
    "        # текущая нода, которая собирает ответ\n",
    "        curr = dummy\n",
    "\n",
    "        while l1 is not None or l2 is not None or carry != 0:\n",
    "            # получаем текущее значение, если список закончился\n",
    "            # то возвращаем 0\n",
    "            l1Val = l1.val if l1 is not None else 0\n",
    "            l2Val = l2.val if l2 is not None else 0\n",
    "\n",
    "            sum = l1Val + l2Val + carry\n",
    "            # sum % 10 - текущее число которое добавим к ответу\n",
    "            newNode = ListNode(sum % 10)\n",
    "            # sum // 10 - остаток который переносим\n",
    "            carry = sum // 10\n",
    "\n",
    "            curr.next = newNode\n",
    "            curr = curr.next\n",
    "\n",
    "            l1 = l1.next if l1 is not None else None\n",
    "            l2 = l2.next if l2 is not None else None\n",
    "\n",
    "        return dummy.next"
   ]
  },
  {
   "cell_type": "markdown",
   "id": "0a092709-cdf0-4266-966e-f9d4092c62b0",
   "metadata": {},
   "source": [
    "#### Задача 7 ( 347. Top K Frequent Elements)"
   ]
  },
  {
   "cell_type": "markdown",
   "id": "a9dce601-366b-4e89-b97d-71ca3fd4d8aa",
   "metadata": {},
   "source": [
    "1) подсчет: заводим словарь или хэш таблицу 7:4,8:2,9:3,6:2\n",
    "2) реверс: клюс становится значением, а значение ключем (Массив!!)\n",
    "0[] - всегда пуст индекс 0, 1[], 2[6,8],..11[]\n",
    "4) печатать ответ"
   ]
  },
  {
   "cell_type": "code",
   "execution_count": null,
   "id": "78383bc2-0734-4e96-ac73-7792ca49e44d",
   "metadata": {},
   "outputs": [],
   "source": [
    "class Solution:\n",
    "    # time: O(n)\n",
    "    # mem: O(n)\n",
    "    def topKFrequent(self, nums: List[int], k: int) -> List[int]:\n",
    "        # ключ - число, значение - сколько раз встретилось\n",
    "        count = {}\n",
    "        for num in nums:\n",
    "            if num not in count:\n",
    "                count[num] = 0\n",
    "            count[num] += 1\n",
    "       \n",
    "        # индекс массива - сколько раз встретилось число\n",
    "        # значение - список чисел, которые стретились столько раз\n",
    "        frequencyList = [[] for _ in range(len(nums) + 1)]\n",
    "        for num in count:\n",
    "            frequency = count[num]\n",
    "            frequencyList[frequency].append(num)\n",
    "\n",
    "        # допустим у нас получиллся такой frequencyList:\n",
    "        # 0: []\n",
    "        # 1: [2, 5]\n",
    "        # 2: []\n",
    "        # 3: [4]\n",
    "        # 4: []\n",
    "        # 5: []\n",
    "        # при k = 2 нам нужно вернуть 4 и 2 или 4 и 5 - без разницы\n",
    "        # для этого проходимся с конца и ищем первые k элементов\n",
    "        result = []\n",
    "        for numsList in reversed(frequencyList):\n",
    "            for num in numsList:\n",
    "                if k <= 0:\n",
    "                    return result\n",
    "                result.append(num)\n",
    "                k -= 1\n",
    "        return result"
   ]
  },
  {
   "cell_type": "code",
   "execution_count": null,
   "id": "0b8b8512-c55b-445a-a52d-9fc755409f5c",
   "metadata": {},
   "outputs": [],
   "source": []
  },
  {
   "cell_type": "code",
   "execution_count": null,
   "id": "2b8daf62-bdb8-4257-9980-60c30b3e4857",
   "metadata": {},
   "outputs": [],
   "source": []
  },
  {
   "cell_type": "code",
   "execution_count": null,
   "id": "c75bbf23-b239-4a1a-b4a4-04bd1a591965",
   "metadata": {},
   "outputs": [],
   "source": []
  },
  {
   "cell_type": "code",
   "execution_count": null,
   "id": "088fed65-5847-4b33-aa91-fe95b83c2b43",
   "metadata": {},
   "outputs": [],
   "source": []
  }
 ],
 "metadata": {
  "kernelspec": {
   "display_name": "Python 3 (ipykernel)",
   "language": "python",
   "name": "python3"
  },
  "language_info": {
   "codemirror_mode": {
    "name": "ipython",
    "version": 3
   },
   "file_extension": ".py",
   "mimetype": "text/x-python",
   "name": "python",
   "nbconvert_exporter": "python",
   "pygments_lexer": "ipython3",
   "version": "3.9.7"
  }
 },
 "nbformat": 4,
 "nbformat_minor": 5
}
