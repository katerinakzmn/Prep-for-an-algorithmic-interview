{
 "cells": [
  {
   "cell_type": "markdown",
   "id": "5b1da02a-a126-49ec-98d9-22e5dd712df9",
   "metadata": {},
   "source": [
    "Различные задачки на массивы"
   ]
  },
  {
   "cell_type": "markdown",
   "id": "4b0281a1-9243-4e46-bfba-8ad887b638a1",
   "metadata": {},
   "source": [
    "### Префиксный массив"
   ]
  },
  {
   "cell_type": "markdown",
   "id": "08fe223b-b43f-4aa3-851d-496755138f58",
   "metadata": {
    "jp-MarkdownHeadingCollapsed": true
   },
   "source": [
    "#### Задача 1 (303. Range Sum Query - Immutable)"
   ]
  },
  {
   "cell_type": "code",
   "execution_count": null,
   "id": "46ff6e8b-5d46-46e7-a08a-2bdd1a5d9644",
   "metadata": {},
   "outputs": [],
   "source": [
    "#есть массив, есть два интекса и нужно найти сумму чисел из массива от первого до \n",
    "#второго индекса\n",
    "#концепция\n",
    "#префиксный массив строится поверх обычного массива, где каждый элемент массива это сумма всех предыдущих\n",
    "#элементов\n",
    "#реализация\n",
    "#добавить фейковый элемент 0"
   ]
  },
  {
   "cell_type": "code",
   "execution_count": null,
   "id": "a83a3b75-df88-4550-8e10-a7dedd8319ea",
   "metadata": {},
   "outputs": [],
   "source": [
    "class NumArray:\n",
    "    #time: O(n)\n",
    "    #mem: O(n)\n",
    "    def __init__(self, nums: List[int]):\n",
    "        #делаем префиксный массив\n",
    "        # [1,2,3]->[0,1,3,6]\n",
    "        prefix_sum = [0,]\n",
    "        for num in nums:\n",
    "            prefix_sum.append(prefix_sum[-1]+num)\n",
    "        self.prefix_sum = prefix_sum\n",
    "    #time: O(1)\n",
    "    #mem: O(1)\n",
    "    def sumRange(self, left: int, right: int) -> int:\n",
    "        return self.prefix_sum[right+1]-self.prefix_sum[left]"
   ]
  },
  {
   "cell_type": "markdown",
   "id": "59392f2f-305a-44f7-a2c0-638fecee181b",
   "metadata": {
    "jp-MarkdownHeadingCollapsed": true
   },
   "source": [
    "#### Задача 2 (724. Find Pivot Index)"
   ]
  },
  {
   "cell_type": "code",
   "execution_count": null,
   "id": "bd2a3bc4-30f2-4596-8376-2e1fe3c7fe7e",
   "metadata": {},
   "outputs": [],
   "source": [
    "#самый левый индеск, для которого сумма элементов справа и слево от него одинакова\n",
    "#либо построим префиксный массив и суффиксный массив\n",
    "#либо считаем всю сумму массива и текущую префиксную сумму"
   ]
  },
  {
   "cell_type": "code",
   "execution_count": null,
   "id": "1136ed69-50cb-476c-ac99-6a4a06a9ad2b",
   "metadata": {},
   "outputs": [],
   "source": [
    "class Solution:\n",
    "    # time: O(n)\n",
    "    # mem(доп): O(1)\n",
    "    def pivotIndex(self, nums: List[int]) -> int:\n",
    "        # сумма всех элементов массива nums\n",
    "        numsSum = sum(nums)\n",
    "\n",
    "        # текущая сумма всех элементов слева\n",
    "        leftSum = 0\n",
    "        for i, num in enumerate(nums):\n",
    "            # rightSum - сумма элементов справа\n",
    "            # 0 1 2 3 4 5\n",
    "            #     i\n",
    "            # если i = 2, то leftSum = 0 + 1\n",
    "            # rightSum = 3 + 4 + 5\n",
    "            rightSum = numsSum - leftSum - num\n",
    "            if leftSum == rightSum:\n",
    "                return i\n",
    "            leftSum += num\n",
    "        return -1"
   ]
  },
  {
   "cell_type": "markdown",
   "id": "4d69bd25-a5ac-40a6-86fa-2479f97a5f11",
   "metadata": {
    "jp-MarkdownHeadingCollapsed": true
   },
   "source": [
    "#### Задача 3 (560. Subarray Sum Equals K)"
   ]
  },
  {
   "cell_type": "code",
   "execution_count": null,
   "id": "b103fccc-e301-4db2-a1bd-d0cac2c50765",
   "metadata": {},
   "outputs": [],
   "source": [
    "#есть массив и нужно сказать сколько существуют подмассивов равные k\n",
    "#запоминаем кол-во префиксных массивов которые равны некоторому значений\n",
    "#оформляем как словарь, т.е. сумма и сколько раз такая сумма встретилась {0: 1}"
   ]
  },
  {
   "cell_type": "code",
   "execution_count": null,
   "id": "ed2cd0c1-1c4b-4daf-988a-5e8bc525b780",
   "metadata": {},
   "outputs": [],
   "source": [
    "class Solution:\n",
    "    # time: O(n)\n",
    "    # mem: O(n)\n",
    "    def subarraySum(self, nums: List[int], targetSum: int) -> int:\n",
    "        # ключ - префиксная сумма, значение - сколько раз встретили\n",
    "        prefix_sums = {0: 1}\n",
    "\n",
    "        # текущая префиксная сумма\n",
    "        current_prefix_sum = 0\n",
    "\n",
    "        # ответ\n",
    "        count = 0\n",
    "        for el in nums:\n",
    "            current_prefix_sum += el\n",
    "\n",
    "            # проверяем встречали ли мы уже префиксный массив с суммой current_prefix_sum - targetSum\n",
    "            if (current_prefix_sum - targetSum) in prefix_sums:\n",
    "                # если встречали - то к ответу прибавлем число сколько раз уже встретили\n",
    "                count += prefix_sums[current_prefix_sum - targetSum]\n",
    "            \n",
    "            # добавляем текущую префиксную сумму в массив\n",
    "            if current_prefix_sum not in prefix_sums:\n",
    "                prefix_sums[current_prefix_sum] = 0\n",
    "            prefix_sums[current_prefix_sum] += 1\n",
    "        return count"
   ]
  },
  {
   "cell_type": "markdown",
   "id": "7e03c54b-3806-478c-af3d-610a18921155",
   "metadata": {},
   "source": [
    "### Двумерный префиксный массив"
   ]
  },
  {
   "cell_type": "markdown",
   "id": "24c5ae7f-2709-4ac5-b349-ab2e91234edd",
   "metadata": {
    "jp-MarkdownHeadingCollapsed": true
   },
   "source": [
    "#### Задача 3 (304. Range Sum Query 2D - Immutable)"
   ]
  },
  {
   "cell_type": "code",
   "execution_count": null,
   "id": "e817882e-2749-47fb-b64b-8584e2935a13",
   "metadata": {},
   "outputs": [],
   "source": [
    "#есть двумерная матрица и нам приходит индексы квадрата и нужно найти сумму данного кв."
   ]
  },
  {
   "cell_type": "code",
   "execution_count": null,
   "id": "f165c6d2-72ff-4eca-9288-1e6b96ef8e7c",
   "metadata": {},
   "outputs": [],
   "source": [
    "class NumMatrix:\n",
    "\n",
    "    # time: O(n * m)\n",
    "    # mem: O(n * m)\n",
    "    def __init__(self, matrix: List[List[int]]):\n",
    "        # 2 матрица из 0 на 1 больше размера исходного массива\n",
    "        # по горизонтали и вертикали\n",
    "        n = len(matrix)\n",
    "        m = len(matrix[0])\n",
    "\n",
    "        # ps - prefix sum. написал сокращенно, чтобы было компактнее\n",
    "        ps = [[0 for _ in range(m + 1)] for _ in range(n + 1)]\n",
    "        \n",
    "        for i in range(1, n + 1):\n",
    "            for j in range(1, m + 1):\n",
    "                # other_sum - сумма всех элементов квадрата кроме текущего\n",
    "                other_sum = ps[i - 1][j] + ps[i][j - 1] - ps[i - 1][j - 1]\n",
    "                ps[i][j] = matrix[i - 1][j - 1] + other_sum\n",
    "        \n",
    "        self.ps = ps#чтоб переменная была доступна из других методов\n",
    "\n",
    "\n",
    "    # time: O(1)\n",
    "    # mem: O(1)\n",
    "    def sumRegion(self, row1: int, col1: int, row2: int, col2: int) -> int:\n",
    "        # когда у вас префиксный макссив начинается с 0, и при этом\n",
    "        # запросы тоже с 0 ( т е row1 - имеет минимальное значение 0, а не 1)\n",
    "        # то при запросе мы все что касается row2 и col2 мы прибавляем 1\n",
    "        # а row1 и col1 оставляем без изменений\n",
    "        row2 += 1\n",
    "        col2 += 1\n",
    "        return self.ps[row2][col2] - self.ps[row1][col2] - self.ps[row2][col1] + self.ps[row1][col1]\n",
    "        \n",
    "\n",
    "\n",
    "# Your NumMatrix object will be instantiated and called as such:\n",
    "# obj = NumMatrix(matrix)\n",
    "# param_1 = obj.sumRegion(row1,col1,row2,col2)"
   ]
  },
  {
   "cell_type": "markdown",
   "id": "026caaa8-2d7e-43f9-810f-2547c4f2f19b",
   "metadata": {},
   "source": [
    "#### Задача 4 (1314. Matrix Block Sum)"
   ]
  },
  {
   "cell_type": "code",
   "execution_count": null,
   "id": "706539e1-4c5c-420f-9853-72b9eb50ce92",
   "metadata": {},
   "outputs": [],
   "source": [
    "#нужно сделать новую матрицу, которая будет суммировать на расстоянии 1"
   ]
  },
  {
   "cell_type": "markdown",
   "id": "450e6b5e-74d9-4ee7-8fc2-b1b749a8a553",
   "metadata": {
    "jp-MarkdownHeadingCollapsed": true
   },
   "source": [
    "#### Задача 5 (268. Missing Number)"
   ]
  },
  {
   "cell_type": "code",
   "execution_count": null,
   "id": "c83e18f0-6e1c-4295-877d-7c088aa06345",
   "metadata": {},
   "outputs": [],
   "source": [
    "#знаем массив, знаем что значения [0,n], где n-размер массива\n",
    "#найти пропущенное значение\n",
    "#через арифметическую прогрессию"
   ]
  },
  {
   "cell_type": "code",
   "execution_count": null,
   "id": "2bb21ee8-bad8-42aa-b2d1-d577d31f2bfd",
   "metadata": {},
   "outputs": [],
   "source": [
    "class Solution:\n",
    "    # time: O(n)\n",
    "    # mem: O(1)\n",
    "    def missingNumber(self, nums: List[int]) -> int:\n",
    "        # overallSum - сумма чисел от 0 до n включительно\n",
    "        # n - взято из условия\n",
    "        overallSum = sum([i for i in range(0, len(nums) + 1)])\n",
    "\n",
    "        # numsSum - сумма всех элементов массива\n",
    "        numsSum = sum(nums)\n",
    "\n",
    "        return overallSum - numsSum"
   ]
  },
  {
   "cell_type": "markdown",
   "id": "c711fa9e-b78f-4d33-9e6b-dcfad2f409a6",
   "metadata": {
    "jp-MarkdownHeadingCollapsed": true
   },
   "source": [
    "#### Задача 6 (287. Find the Duplicate Number)"
   ]
  },
  {
   "cell_type": "code",
   "execution_count": null,
   "id": "d4cfaa41-5170-4396-a22d-f8e3ede39ca9",
   "metadata": {},
   "outputs": [],
   "source": [
    "#один элемент отсутствует, а второй дублируется\n",
    "#высчитываем оригинальную сумму os\n",
    "#и сумму массива cs\n",
    "# os = cs + x - y\n",
    "# (os^2)сумма квадратов = cs^2 + x^2 - y^2"
   ]
  },
  {
   "cell_type": "markdown",
   "id": "5b63e844-a966-4210-9b84-aff27e011ffb",
   "metadata": {
    "jp-MarkdownHeadingCollapsed": true
   },
   "source": [
    "#### Задача 7 (189. Rotate Array)"
   ]
  },
  {
   "cell_type": "code",
   "execution_count": null,
   "id": "3de58031-3cbb-4227-8090-d1db66f094df",
   "metadata": {},
   "outputs": [],
   "source": [
    "#нужно сдвинуть массив вправо\n",
    "#используется операция reverse\n",
    "Оригинал 1,2,3,4,5,6,7\n",
    "1)7,6,5,4,3,2,1\n",
    "2)реверсим первые k: 5,6,7,4,3,2,1\n",
    "3)5,6,7,1,2,3,4"
   ]
  },
  {
   "cell_type": "code",
   "execution_count": null,
   "id": "a913bac1-a82b-4f9c-89ad-e88ecb3ff917",
   "metadata": {},
   "outputs": [],
   "source": [
    "class Solution:\n",
    "    \n",
    "    # time: O(n), где n - длина массива (оценка сверху, а не точная)\n",
    "    # mem: O(1)\n",
    "    def rotateSubArr(self, nums: List[int], i: int, j: int):\n",
    "        # nums - передается по ссылке\n",
    "        # nums=[1, 2, 3, 4], i=1, j=3 -> [1, 3, 2, 4]\n",
    "        j -= 1\n",
    "        while i < j:\n",
    "            nums[i], nums[j] = nums[j], nums[i]\n",
    "            i += 1\n",
    "            j -= 1\n",
    "        return nums\n",
    "\n",
    "    # time: O(n)\n",
    "    # mem: O(1)\n",
    "    def rotate(self, nums: List[int], k: int) -> None:\n",
    "        \"\"\"\n",
    "        Do not return anything, modify nums in-place instead.\n",
    "        \"\"\"\n",
    "        # если есть массив [1, 2, 3] то сдвиг на 1 и сдвиг на 4 равны\n",
    "        # и мы вместо того чтобы сдигать на 4 сдвигать хотим на 1\n",
    "        k = k % len(nums)\n",
    "\n",
    "        self.rotateSubArr(nums, 0, len(nums))\n",
    "        self.rotateSubArr(nums, 0, k)\n",
    "        self.rotateSubArr(nums, k, len(nums))"
   ]
  },
  {
   "cell_type": "markdown",
   "id": "a4dfbd6d-172b-401a-b991-bfa8e701f32b",
   "metadata": {
    "jp-MarkdownHeadingCollapsed": true
   },
   "source": [
    "#### Задача 8 (896. Monotonic Array)"
   ]
  },
  {
   "cell_type": "code",
   "execution_count": null,
   "id": "5ca06ed9-36c8-4383-b517-6a2dfcacbf81",
   "metadata": {},
   "outputs": [],
   "source": [
    "#монотонен ли массив, но мы не знаем возврастает или убывает\n",
    "class Solution:\n",
    "    # time: O(n)\n",
    "    # mem: O(1)\n",
    "    def isMonotonic(self, nums: List[int]) -> bool:\n",
    "        # идея в том что нам не важно монотонно возрастает массив\n",
    "        # или монотонно убыват, поэтому мы заводим 2 флага:\n",
    "        # на монотонное возрастание и на монотонное убывание\n",
    "        is_inc = True\n",
    "        is_dec = True\n",
    "        for i in range(1, len(nums)):\n",
    "            is_inc = is_inc and nums[i - 1] <= nums[i]\n",
    "            is_dec = is_dec and nums[i - 1] >= nums[i]\n",
    "        return is_inc or is_dec"
   ]
  },
  {
   "cell_type": "markdown",
   "id": "bc87c162-b6e2-413b-8bcd-d53f32e9e8f7",
   "metadata": {},
   "source": [
    "#### Задача 9 (674. Longest Continious Increasing Subsequence)"
   ]
  },
  {
   "cell_type": "code",
   "execution_count": null,
   "id": "5f7bcd9e-e316-4fc5-bedc-f01830d137bf",
   "metadata": {},
   "outputs": [],
   "source": [
    "#есть массив и вопрос длина самого длинного строго возрастающего подмассива"
   ]
  },
  {
   "cell_type": "code",
   "execution_count": null,
   "id": "a7e53028-e0b6-407b-8214-2b1ea6ad0721",
   "metadata": {},
   "outputs": [],
   "source": [
    "class Solution:\n",
    "    # time: O(n)\n",
    "    # mem (дополнительная): O(1)\n",
    "    def findLengthOfLCIS(self, nums: List[int]) -> int:\n",
    "        prev = float('-inf')\n",
    "        max_length = 0 # максимальная длина возрастающей последовательности\n",
    "        curr_length = 0 # текущая длина возрастающей последовательности\n",
    "        for num in nums:\n",
    "            # т к последовательности по условию не прерывающаяся\n",
    "            # то мы на кажой итерации или увеличиваем ответ - если\n",
    "            # приходит число больше чем предыдущее или делаем ответ 1\n",
    "            # т к непрерывная возрастающая последовательности кончилась\n",
    "            # и мы начинаем новую возрастающую последовательности\n",
    "            if prev < num:\n",
    "                curr_length += 1\n",
    "            else:\n",
    "                curr_length = 1\n",
    "            max_length = max(max_length, curr_length) # на каждой итерации обновляем ответ\n",
    "            prev = num\n",
    "        return max_length"
   ]
  },
  {
   "cell_type": "code",
   "execution_count": null,
   "id": "ec62c4ab-b4e6-41ba-b7d7-b70af32cd2c1",
   "metadata": {},
   "outputs": [],
   "source": []
  },
  {
   "cell_type": "code",
   "execution_count": null,
   "id": "a8c6405a-ed3a-4b43-a784-e03aaa08ee40",
   "metadata": {},
   "outputs": [],
   "source": []
  },
  {
   "cell_type": "code",
   "execution_count": null,
   "id": "0a7a7394-5a6d-4f40-b49d-67a1a50de955",
   "metadata": {},
   "outputs": [],
   "source": []
  },
  {
   "cell_type": "code",
   "execution_count": null,
   "id": "baddfb78-0132-46f5-b2ca-a0a6486f339a",
   "metadata": {},
   "outputs": [],
   "source": []
  },
  {
   "cell_type": "code",
   "execution_count": null,
   "id": "91bb7d0c-d2a8-4071-bd72-f11550deb3d2",
   "metadata": {},
   "outputs": [],
   "source": []
  },
  {
   "cell_type": "code",
   "execution_count": null,
   "id": "c08010a0-440b-4e1d-8ea8-a385d2e56c2f",
   "metadata": {},
   "outputs": [],
   "source": []
  }
 ],
 "metadata": {
  "kernelspec": {
   "display_name": "Python 3 (ipykernel)",
   "language": "python",
   "name": "python3"
  },
  "language_info": {
   "codemirror_mode": {
    "name": "ipython",
    "version": 3
   },
   "file_extension": ".py",
   "mimetype": "text/x-python",
   "name": "python",
   "nbconvert_exporter": "python",
   "pygments_lexer": "ipython3",
   "version": "3.9.7"
  }
 },
 "nbformat": 4,
 "nbformat_minor": 5
}
