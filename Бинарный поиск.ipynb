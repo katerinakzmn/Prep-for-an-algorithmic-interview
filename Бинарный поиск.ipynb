{
 "cells": [
  {
   "cell_type": "markdown",
   "id": "061012db-f3a2-4110-b635-d9e1a9b8f832",
   "metadata": {},
   "source": [
    "Что такое бинарный поиск?\n",
    "Когда его можно применять? Можнои разделить массив на две непрерывные последовательности\n",
    "Одна хорошая, другая плохая\n",
    "[good, bad]"
   ]
  },
  {
   "cell_type": "code",
   "execution_count": null,
   "id": "ab451304-ea61-4314-b18e-db7fac443684",
   "metadata": {},
   "outputs": [],
   "source": []
  },
  {
   "cell_type": "markdown",
   "id": "c669a77f-f619-41d9-ad86-d23896417163",
   "metadata": {},
   "source": [
    "### Бинарный поиск"
   ]
  },
  {
   "cell_type": "markdown",
   "id": "f8927869-1caa-42e1-b78d-4dac9214635f",
   "metadata": {},
   "source": [
    "#### Задача 1 (704. Binary Search)"
   ]
  },
  {
   "cell_type": "code",
   "execution_count": null,
   "id": "8ea59ede-501b-4116-9be7-964c8b3bd805",
   "metadata": {},
   "outputs": [],
   "source": [
    "#нужно вернуть индекс числа, которое вводится под переменной target\n",
    "#если такого числа нет, то -1\n",
    "#Может ли быть несколько ответов? in ascending order не может быть дубликатов\n",
    "#а не убывающем порядке или в монотонно возврастающем порядке может быть"
   ]
  },
  {
   "cell_type": "code",
   "execution_count": null,
   "id": "d76dfb6a-7f5f-4441-a974-0ab655471054",
   "metadata": {},
   "outputs": [],
   "source": [
    "#через бинарный поиск будем искать последний хороший и первый плохой\n",
    "#через два указателя"
   ]
  },
  {
   "cell_type": "code",
   "execution_count": null,
   "id": "f782ad2f-bd55-402f-9b94-498ccf3e0724",
   "metadata": {},
   "outputs": [],
   "source": [
    "class Solution:\n",
    "    def good(self, val: int, target: int):\n",
    "       return val <= target\n",
    "\n",
    "    # time: O(log n)\n",
    "    # mem:  O(1)\n",
    "    def search(self, nums: List[int], target: int) -> int:\n",
    "        #l-левый указатель, r - правый указатель, который указывает за пределы списка\n",
    "        # ответ будет находится в элементе указывающим на l\n",
    "        # поэтому сдвигаем r на 1 вправо, чтобы l мог принимать\n",
    "        # значения [0, len(nums) - 1] т е от первого и до последнего\n",
    "        # индекса включительно\n",
    "        l, r = 0, len(nums)\n",
    "        while r - l > 1:\n",
    "            m = (l + r) // 2\n",
    "            if self.good(nums[m], target):\n",
    "               l = m\n",
    "            else:\n",
    "               r = m\n",
    "        return l if nums[l] == target else -1"
   ]
  },
  {
   "cell_type": "markdown",
   "id": "f6bf2b11-df34-4c99-9191-fa1ce3f657d6",
   "metadata": {},
   "source": [
    "#### Задача 2 (852. Peak Index in a Mountain Array)"
   ]
  },
  {
   "cell_type": "code",
   "execution_count": null,
   "id": "e40030a4-6071-472c-a19e-d5eb2604df16",
   "metadata": {},
   "outputs": [],
   "source": [
    "class Solution:\n",
    "    def good(self, i, arr):\n",
    "        if i == 0:\n",
    "            return True\n",
    "        return arr[i - 1] < arr[i]\n",
    "\n",
    "    # time: O(log n)\n",
    "    # mem:  O(1)\n",
    "    def peakIndexInMountainArray(self, arr: List[int]) -> int:\n",
    "        # arr - гарантированно mountain, поэтому ответ\n",
    "        # будет лежать в диапазоне [0, len(arr) - 2] включительно\n",
    "        # а значит r = len(arr) - 1 (на 1 больше чтобы l мог встать\n",
    "        # в крайнюю позицию)\n",
    "        l, r = 0, len(arr) - 1\n",
    "        while r - l > 1:\n",
    "            m = (l + r) // 2\n",
    "            if self.good(m, arr):\n",
    "                l = m\n",
    "            else:\n",
    "                r = m\n",
    "        return l"
   ]
  },
  {
   "cell_type": "markdown",
   "id": "0f23cc93-6e6c-44cd-ac22-1025b3ddd0f2",
   "metadata": {},
   "source": [
    "#### Задача 3 (33. Search in Rotated Sorted Array)"
   ]
  },
  {
   "cell_type": "code",
   "execution_count": null,
   "id": "dee61050-1c08-4a96-ae96-2d4def504027",
   "metadata": {},
   "outputs": [],
   "source": [
    "#есть массив, отсортированный по возрастанию, массив сдвинули на 4 вправо\n",
    "#используем странные индексы, которые можно превратить в нормальные 4%n, 5%n\n",
    "#offset"
   ]
  },
  {
   "cell_type": "code",
   "execution_count": null,
   "id": "b1f2e8e1-2309-4f6a-a6a6-2a8ab5d7eb43",
   "metadata": {},
   "outputs": [],
   "source": [
    "class Solution:\n",
    "    # time: O(log n)\n",
    "    # mem:  O(1)\n",
    "    def findOffset(self, nums: List[int]):\n",
    "        # good   bad\n",
    "        # [   |  1 2 3 4 5]\n",
    "        #   l    r\n",
    "\n",
    "        #  good        bad\n",
    "        # [4 5 6 7  |  0 1 2]\n",
    "        #        l     r\n",
    "        def good(i: int):\n",
    "            return nums[i] > nums[-1]\n",
    "\n",
    "        l, r = -1, len(nums) - 1\n",
    "        while r - l > 1:\n",
    "            m = (l + r) // 2\n",
    "            if good(m):\n",
    "                l = m\n",
    "            else:\n",
    "                r = m\n",
    "        return r\n",
    "\n",
    "    # time: O(log n)\n",
    "    # mem:  O(1)\n",
    "    def search(self, nums: List[int], target: int) -> int:\n",
    "        def good(i: int):\n",
    "            return nums[i] <= target\n",
    "\n",
    "        # обычный бинарный поиск, но смещаем на offset дополнительно\n",
    "        offset = self.findOffset(nums)\n",
    "        l, r = 0, len(nums)\n",
    "        while r - l > 1:\n",
    "            # Note: ошибка №1 это делать \"m = (l + r + offset) // 2\"\n",
    "            m = (l + r) // 2\n",
    "            if good((m + offset) % len(nums)):\n",
    "                l = m\n",
    "            else:\n",
    "                r = m\n",
    "        # Note: ошибка №2 это забыть сделать \"(l + offset) % len(nums)\"\n",
    "        realLeft = (l + offset) % len(nums)\n",
    "        return realLeft if nums[realLeft] == target else -1"
   ]
  },
  {
   "cell_type": "markdown",
   "id": "bd5810c1-d032-47f9-8dbb-aced676eb4e7",
   "metadata": {},
   "source": [
    "#### Задача 4 (74. Search a 2D Matrix)"
   ]
  },
  {
   "cell_type": "code",
   "execution_count": null,
   "id": "6b33bf3d-3c44-4ebd-8215-8538b7ebb135",
   "metadata": {},
   "outputs": [],
   "source": [
    "#есть матрица, последний элемент в строке строго больше чем первый элемент в следующей строке\n",
    "#то есть грубо говоря не убывающий в строке массив\n",
    "#вернуть true, если в массиве есть target\n",
    "#будем работать с обычным бинарным поиском\n",
    "#как из 7 получить matrix [1][3]\n",
    "#row = i//n\n",
    "#col=i%n\n",
    "#n-кол-во столбцов"
   ]
  },
  {
   "cell_type": "code",
   "execution_count": null,
   "id": "f14a528e-27de-490f-be27-80ab8a2d3879",
   "metadata": {},
   "outputs": [],
   "source": [
    "class Solution:\n",
    "    # time: O(log (N * M))\n",
    "    # mem:  O(1)\n",
    "    def searchMatrix(self, matrix: List[List[int]], target: int) -> bool:\n",
    "        # чтобы работать с 2-D массивом как с 1-D\n",
    "        def elementFromMatrix(i: int):\n",
    "            n = len(matrix[0])\n",
    "            return matrix[i // n][i % n]\n",
    "\n",
    "        def good(i: int):\n",
    "            return elementFromMatrix(i) <= target\n",
    "        \n",
    "        # обычный бинарный поиск как для 1-D массива\n",
    "        l, r = 0, len(matrix) * len(matrix[0])\n",
    "        while r - l > 1:\n",
    "            m = (l + r) // 2\n",
    "            if good(m):\n",
    "                l = m\n",
    "            else:\n",
    "                r = m\n",
    "        return elementFromMatrix(l) == target"
   ]
  },
  {
   "cell_type": "markdown",
   "id": "625cbbd7-3e56-4887-a053-f0e5dd7d20e0",
   "metadata": {},
   "source": [
    "### Бинарный поиск по ответу"
   ]
  },
  {
   "cell_type": "markdown",
   "id": "b8b99289-7b18-4912-8541-3b040abb03a9",
   "metadata": {},
   "source": [
    "#### Задача 5 (69. Sqrt(x))"
   ]
  },
  {
   "cell_type": "code",
   "execution_count": null,
   "id": "f326bb33-cd16-4c10-95b3-cf29bfd848bc",
   "metadata": {},
   "outputs": [],
   "source": [
    "#найти максимаксильную "
   ]
  },
  {
   "cell_type": "code",
   "execution_count": null,
   "id": "d9c847e7-8442-4ae5-872e-e220a636e758",
   "metadata": {},
   "outputs": [],
   "source": [
    "class Solution:\n",
    "    # time: O(log n)\n",
    "    # mem:  O(1)\n",
    "    def mySqrt(self, x: int) -> int:\n",
    "        def good(i: int):\n",
    "            return i * i <= x\n",
    "\n",
    "        # Note: работаем именно с целыми числами\n",
    "        # если работать с не целыми, то получим неточный ответ\n",
    "        # из-за накаплавающейся неточности во float\n",
    "        l, r = 0, x + 1\n",
    "        while r - l > 1:\n",
    "            m = (l + r) // 2\n",
    "            if good(m):\n",
    "                l = m\n",
    "            else:\n",
    "                r = m\n",
    "        return l"
   ]
  },
  {
   "cell_type": "code",
   "execution_count": null,
   "id": "9884ceed-be34-41c1-bf0c-9969dd98a1f4",
   "metadata": {},
   "outputs": [],
   "source": []
  },
  {
   "cell_type": "code",
   "execution_count": null,
   "id": "482e3328-f1fe-4eb9-9b1e-a4a3ac59e5cb",
   "metadata": {},
   "outputs": [],
   "source": []
  },
  {
   "cell_type": "code",
   "execution_count": null,
   "id": "61971c58-b837-428c-83ed-79a5265f2407",
   "metadata": {},
   "outputs": [],
   "source": []
  },
  {
   "cell_type": "code",
   "execution_count": null,
   "id": "144db18b-d56d-447b-9b40-eb1093e2b3e5",
   "metadata": {},
   "outputs": [],
   "source": []
  },
  {
   "cell_type": "code",
   "execution_count": null,
   "id": "01b6f967-724e-484e-b847-e9d6ec2ac5cb",
   "metadata": {},
   "outputs": [],
   "source": []
  }
 ],
 "metadata": {
  "kernelspec": {
   "display_name": "Python 3 (ipykernel)",
   "language": "python",
   "name": "python3"
  },
  "language_info": {
   "codemirror_mode": {
    "name": "ipython",
    "version": 3
   },
   "file_extension": ".py",
   "mimetype": "text/x-python",
   "name": "python",
   "nbconvert_exporter": "python",
   "pygments_lexer": "ipython3",
   "version": "3.9.7"
  }
 },
 "nbformat": 4,
 "nbformat_minor": 5
}
