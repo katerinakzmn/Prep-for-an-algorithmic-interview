{
 "cells": [
  {
   "cell_type": "code",
   "execution_count": null,
   "id": "b96f0f24-0d43-44de-9c73-012fded782e5",
   "metadata": {},
   "outputs": [],
   "source": [
    "#Definition for singly-linked list\n",
    "#class ListNode:\n",
    "#    def __init__(self, val=0, next=None):\n",
    "#        self.val = val-некоторое значение\n",
    "#        self.next = next - указатель на следующий элемент"
   ]
  },
  {
   "cell_type": "markdown",
   "id": "63c3ec6c-799c-4b1a-b525-800790c3bb5d",
   "metadata": {},
   "source": [
    "Сложность:\n",
    "1. доступ к элементу по индексу долгий (О(n))\n",
    "2. все операции нужно реализовывать самим"
   ]
  },
  {
   "cell_type": "markdown",
   "id": "15ecddbd-7829-4f86-b3bf-b786d48dcb59",
   "metadata": {
    "jp-MarkdownHeadingCollapsed": true
   },
   "source": [
    "#### Задача 1 (19. Remove Nth Node from End of list)"
   ]
  },
  {
   "cell_type": "code",
   "execution_count": null,
   "id": "0927521f-4049-4318-bd01-d8a676d0e7c1",
   "metadata": {},
   "outputs": [],
   "source": [
    "#понадобиться такой паттерн как Dummy Node\n",
    "#Dummy Node - такая фиктивная вершинка, которая может использоваться, чтобы не \n",
    "#обрабатывать отдельной логикой удаление первого элемента"
   ]
  },
  {
   "cell_type": "code",
   "execution_count": null,
   "id": "a16862a6-b596-4464-9dcd-6bfa67731c15",
   "metadata": {},
   "outputs": [],
   "source": [
    "#var1\n",
    "class Solution:\n",
    "    #time: O(n), где n-число узлов\n",
    "    #mem(доп.): O(1)\n",
    "    def removeNthFromEnd(self, head: Optional[ListNode], n:int) -> Optional[ListNode]:\n",
    "        dummyNode = ListNode(val=0, next=head)\n",
    "        \n",
    "        #находим длину списка с учетом dummyNode\n",
    "        length = 0\n",
    "        curr = dummyNode\n",
    "        while curr is not None:\n",
    "            curr = curr.next\n",
    "            length += 1\n",
    "            \n",
    "        #доходим до (n-1)-ой вершины с конца\n",
    "        curr = dummyNode\n",
    "        for i in range(length - n - 1):\n",
    "            curr = curr.next\n",
    "            \n",
    "        #удаляем вершину\n",
    "        curr.next = curr.next.next\n",
    "        \n",
    "        return dummyNode.next"
   ]
  },
  {
   "cell_type": "code",
   "execution_count": null,
   "id": "0f2a4042-1ab3-487b-be5c-67442de70156",
   "metadata": {},
   "outputs": [],
   "source": [
    "#var2\n",
    "class Solution:\n",
    "    #time: O(n), где n-длина списка\n",
    "    #mem(доп): O(1)\n",
    "    def removeNthFromEnd(self, head: Optional[ListNode], n:int) -> Optional[ListNode]:\n",
    "        dummyNode = ListNode(val=0, next=head)\n",
    "        \n",
    "        fast = dummyNode\n",
    "        for i in range(n+1):\n",
    "            fast = fast.next\n",
    "        \n",
    "        slow = dummyNode\n",
    "        while fast is not None:\n",
    "            slow = slow.next\n",
    "            fast = fast.next\n",
    "        \n",
    "        #удаляем вершину\n",
    "        slow.next = slow.next.next\n",
    "        \n",
    "        return dummyNode.next"
   ]
  },
  {
   "cell_type": "markdown",
   "id": "3da9d3ca-196c-4f8e-8c62-ca366de3dc59",
   "metadata": {
    "jp-MarkdownHeadingCollapsed": true
   },
   "source": [
    "#### Задача 2 (206. Reverse Linked List)"
   ]
  },
  {
   "cell_type": "code",
   "execution_count": null,
   "id": "b5d10880-6fbc-47c5-93f6-3d8ea896cc13",
   "metadata": {},
   "outputs": [],
   "source": [
    "#делаем модификацию старого списка, а не создаем новый\n",
    "class Solution:\n",
    "    #time: O(n)\n",
    "    #mem: O(1)\n",
    "    def reverseList(self, head: Optional[ListNode]) -> Optional[ListNode]:\n",
    "        #на каждом шаге curr двигаем по листу на 1 ноду вперед, \n",
    "        # а prev - поддерживает массив в котором будет ответ, т.е.\n",
    "        #если есть изначально массив\n",
    "        # 1->2->3->4->5->None\n",
    "        # то через  несколько шагов он будет таким\n",
    "        #None<-1<-2    3->4->5->None\n",
    "        #       prev  curr\n",
    "        #таким образом в prev мы получим конечный ответ\n",
    "        prev = None\n",
    "        curr = head\n",
    "        while curr:\n",
    "            tmp = curr\n",
    "            curr = curr.next\n",
    "            tmp.next = prev\n",
    "            prev = tmp\n",
    "        return prev"
   ]
  },
  {
   "cell_type": "markdown",
   "id": "3c7c47f2-5f51-4a59-8d45-36adf71e6946",
   "metadata": {
    "jp-MarkdownHeadingCollapsed": true
   },
   "source": [
    "#### Задача 3 (876. Middle of the Linked List)"
   ]
  },
  {
   "cell_type": "code",
   "execution_count": null,
   "id": "76b4fdc0-370e-4d36-ab1d-44151504e5fc",
   "metadata": {},
   "outputs": [],
   "source": [
    "#концепция slow и fast pointer\n",
    "class Solution:\n",
    "    #time: O(n)\n",
    "    #mem(доп): O(1)\n",
    "    def middleNode(self, head: Optional[ListNode]) -> Optional[ListNode]:\n",
    "        #изначально ставим slow и fast на голову\n",
    "        slow = head #будем двигать на 1 вперед\n",
    "        fast = head #будем двигать на 2 вперед\n",
    "        #продолжаем до тех пор пока fast и fast.next не станут None\n",
    "        while fast and fast.next:\n",
    "            slow = slow.next\n",
    "            fast = fast.next.next\n",
    "        return slow"
   ]
  },
  {
   "cell_type": "markdown",
   "id": "49e4c4be-626a-4c07-b171-cfbddd076624",
   "metadata": {
    "jp-MarkdownHeadingCollapsed": true
   },
   "source": [
    "#### Задача 4 (234. Polindrome Linked List)"
   ]
  },
  {
   "cell_type": "code",
   "execution_count": 3,
   "id": "37c8640f-8a9b-48d8-a5a6-854dd4bf3410",
   "metadata": {},
   "outputs": [],
   "source": [
    "#можно просто развернуть лист и сравнить два варианта, но это будет неоптимально\n",
    "#находим середину, ставим указатели на середину и на начало\n",
    "#разворачиваем вторую половину списка и указатель первый доходит до последнего элемента\n",
    "#а от середины идет нод None\n",
    "#дальше сравниваем указатели сначала и сконца и доходим таким образом до None"
   ]
  },
  {
   "cell_type": "code",
   "execution_count": null,
   "id": "a8743446-788c-41ad-9aa9-58c3b258176b",
   "metadata": {},
   "outputs": [],
   "source": [
    "class Solution:\n",
    "    #time: O(n)\n",
    "    #mem: O(1)\n",
    "    def reverseList(self, head: Optional[ListNode]) -> Optional[ListNode]:\n",
    "        prev = None\n",
    "        curr = head\n",
    "        while curr:\n",
    "            tmp = curr\n",
    "            curr = curr.next\n",
    "            tmp.next = prev\n",
    "            prev = tmp\n",
    "        return prev\n",
    "    #time: O(n)\n",
    "    #mem: O(1)\n",
    "    def middleNode(self, head: Optional[ListNode]) -> Optional[ListNode]:\n",
    "        slow = head\n",
    "        fast = head\n",
    "\n",
    "        while fast and fast.next:\n",
    "            slow = slow.next\n",
    "            fast = fast.next.next\n",
    "        return slow\n",
    "\n",
    "    #time: O(n)\n",
    "    #mem: O(1)\n",
    "    def isPalindrome(self, head: Optional[ListNode])->bool:\n",
    "        first_half_end_node = self.middleNode(head)\n",
    "        second_half_begin_mode = self.reverseList(first_half_end_node)\n",
    "        #\n",
    "        p1 = head\n",
    "        p2 = second_half_begin_node\n",
    "        #теперь очевидно, что мы должны сравнить значения в\n",
    "        #нодах p1 и p2 пока p2 не станет None\n",
    "        while p2 and p2:\n",
    "            if p1.val != p2.val:\n",
    "                return False\n",
    "            p1 = p1.next\n",
    "            p2 = p2.next\n",
    "        return True"
   ]
  },
  {
   "cell_type": "markdown",
   "id": "e504b0dd-d099-4062-95d4-d54af8912736",
   "metadata": {
    "jp-MarkdownHeadingCollapsed": true
   },
   "source": [
    "#### Задача 5 (143. Reorder List)"
   ]
  },
  {
   "cell_type": "code",
   "execution_count": null,
   "id": "9a1fff63-e665-46cc-9bc7-cdf1e308e0c5",
   "metadata": {},
   "outputs": [],
   "source": [
    "#решение через premid(для четного числа мы берем левый элемент)\n",
    "#реверсим всё что правее premid\n",
    "#вместо tmp.next = None можно выполнить сравнение что два указателя не указывают\n",
    "#на один объект"
   ]
  },
  {
   "cell_type": "code",
   "execution_count": null,
   "id": "f7da9a4b-d667-4a53-90da-38e50001b7ab",
   "metadata": {},
   "outputs": [],
   "source": [
    "class Solution:\n",
    "    #time: O(n)\n",
    "    #mem: O(1)\n",
    "    def reverseList(self, head: Optional[ListNode]) -> Optional[ListNode]:\n",
    "        prev = None\n",
    "        curr = head\n",
    "        while curr:\n",
    "            tmp = curr\n",
    "            curr = curr.next\n",
    "            tmp.next = prev\n",
    "            prev = tmp\n",
    "        return prev\n",
    "\n",
    "    #time: O(n)\n",
    "    #mem: O(1)\n",
    "    def preMiddleNode(self, head: Optional[ListNode]) -> (Optional[ListNode], bool):\n",
    "        slow = head\n",
    "        fast = head\n",
    "        while fast and fast.next and fast.next.next:\n",
    "            slow = slow.next\n",
    "            fast = fast.next.next\n",
    "        return slow\n",
    "\n",
    "    #time: O(n)\n",
    "    #mem: O(1)\n",
    "    def reorderList(self, head: Optional[ListNode]) -> None:\n",
    "        tmp = self.preMiddleNode(head)\n",
    "        #in: 1 -> 2 -> 3 -> 4 -> 5\n",
    "        #             tmp\n",
    "        p2 = self.reverseList(tmp.next)\n",
    "        # curr: 1 -> 2 -> 3 -> 4 <- 5\n",
    "        #                     /     p2\n",
    "        #               None<\n",
    "        #будет зацикливание если не сделать None\n",
    "        tmp.next = None\n",
    "        #p1: 1->2->3->None\n",
    "        #p2: 5->4->None\n",
    "        #\n",
    "        #merge lists\n",
    "        #p2 - тот с кем дальше соединим p1\n",
    "        new_head = p1 = head\n",
    "        while p2:\n",
    "            p1_next = p1.next\n",
    "            p1.next = p2\n",
    "            p1 = p2\n",
    "            p2 = p1_next\n",
    "        return new_head"
   ]
  },
  {
   "cell_type": "markdown",
   "id": "b90bb44d-3d15-416d-8be0-06de060beacc",
   "metadata": {
    "jp-MarkdownHeadingCollapsed": true
   },
   "source": [
    "#### Задача 6 (21. Merge Two Sorted List)"
   ]
  },
  {
   "cell_type": "code",
   "execution_count": null,
   "id": "2e9cfc73-e312-4f93-8107-067564d4089c",
   "metadata": {},
   "outputs": [],
   "source": [
    "#создаем dummyNode - когда не знаем к кому цеплять \n",
    "#создаем два указателя на два начала списков\n",
    "#если указатель указывает на None, то будем думать что это +inf\n",
    "#т.к. между +inf и последним элементом другого списка мы выбираем список"
   ]
  },
  {
   "cell_type": "code",
   "execution_count": null,
   "id": "fb09afe8-9b63-4917-b060-e28533faeeb4",
   "metadata": {},
   "outputs": [],
   "source": [
    "class Solution:\n",
    "    def getVal(self, node: ListNode):\n",
    "        if node is None:\n",
    "            return float('inf')\n",
    "        return node.val\n",
    "\n",
    "    #time: O(n)\n",
    "    #mem: O(1)\n",
    "    def mergeTwoLists(self, list1: Optional[ListNode], list2: Optional[ListNode]) -> Optional[ListNode]:\n",
    "        curr = stab = ListNode() #stab==dummyNode\n",
    "        while list1 is not None or list2 is not None:\n",
    "            if self.getVal(list1)<self.getVal(list2):\n",
    "                curr.next = list1\n",
    "                list1 = list1.next\n",
    "            else:\n",
    "                curr.next = list2\n",
    "                list2 = list2.next\n",
    "            curr = curr.next\n",
    "        return stab.next"
   ]
  },
  {
   "cell_type": "markdown",
   "id": "4ddd7c42-79d1-483a-9d54-b346dbeb6ae8",
   "metadata": {
    "jp-MarkdownHeadingCollapsed": true
   },
   "source": [
    "#### Задача 7 (23. Merge k Sorted List)"
   ]
  },
  {
   "cell_type": "code",
   "execution_count": null,
   "id": "43ec160b-7f8e-41f9-9798-050a07cb5f08",
   "metadata": {},
   "outputs": [],
   "source": [
    "#решение практически аналогично, но его можно улучшить\n",
    "#var1\n",
    "class Solution:\n",
    "    #time: O(k), k - число списков\n",
    "    #mem: O(1)\n",
    "    def get_min_node_idx(self, lists: List[Optional[ListNode]]):\n",
    "        #Функция находит индекс в котором текущая нода наименьшая\n",
    "        min_list_node_val, min_list_node_idx = float('inf'), float('inf')\n",
    "        for i, list_node in enumerate(lists):\n",
    "            if list_node is None:\n",
    "                continue\n",
    "            if list_node.val < min_list_node_val:\n",
    "                min_list_node_val = list_node.val\n",
    "                min_list_node_idx =  i\n",
    "        if min_list_node_val == float('inf'):\n",
    "            return None\n",
    "        return min_list_node_idx\n",
    "    #time: O(n)\n",
    "    #mem: O(1) - переиспользование нодов\n",
    "    def mergeKLists(self, lists: List[Optional[ListNode]]) -> Optional[ListNode]:\n",
    "        #решение на нескольких указателях, т.е. каждый раз находим наименьший\n",
    "        #элемент на которые сейчас указывают списки и двигаем указатель для этого списка\n",
    "        #продолжаем так делать пока все списки не станут указывать на None\n",
    "        min_node_idx = self.get_min_node_idx(lists)\n",
    "        if min_node_idx is None:\n",
    "            return None\n",
    "        #сначала нужно найти минимальный элемент чтобы определить голову списка\n",
    "        curr = head = lists[min_node_idx]\n",
    "        lists[min_node_idx] = lists[min_node_idx].next\n",
    "        #после того как голову нашли находим очередной минимальный нод и добавляем к результату\n",
    "        while True:\n",
    "            min_node_idx = self.get_min_node_idx(lists)\n",
    "            if min_node_idx is None:\n",
    "                curr.next = None\n",
    "                break\n",
    "            curr.next = lists[min_node_idx]\n",
    "            curr = curr.next\n",
    "            lists[min_node_idx] = lists[min_node_idx].next\n",
    "        return head"
   ]
  },
  {
   "cell_type": "markdown",
   "id": "ed24deb1-4ca9-4665-91bc-323e86ee3ff4",
   "metadata": {},
   "source": []
  },
  {
   "cell_type": "code",
   "execution_count": null,
   "id": "98941b53-103b-43a5-9bc3-029f568fe8bd",
   "metadata": {},
   "outputs": [],
   "source": []
  },
  {
   "cell_type": "code",
   "execution_count": null,
   "id": "84fe6aa1-cbac-4138-9b34-7f48df93ad3a",
   "metadata": {},
   "outputs": [],
   "source": []
  },
  {
   "cell_type": "code",
   "execution_count": null,
   "id": "49785ba7-6909-4ecb-bf5a-a3c61e54e8cb",
   "metadata": {},
   "outputs": [],
   "source": []
  },
  {
   "cell_type": "code",
   "execution_count": null,
   "id": "3baf9e90-c769-44f6-9fd3-564b008bc44a",
   "metadata": {},
   "outputs": [],
   "source": []
  },
  {
   "cell_type": "code",
   "execution_count": null,
   "id": "4b3ac7a4-d4ef-43de-9f63-28e719eee1f2",
   "metadata": {},
   "outputs": [],
   "source": []
  },
  {
   "cell_type": "code",
   "execution_count": null,
   "id": "cca333eb-fe0f-49a8-ad06-9b3ffe9e4c0c",
   "metadata": {},
   "outputs": [],
   "source": []
  },
  {
   "cell_type": "code",
   "execution_count": null,
   "id": "4d3e846d-03c5-46c1-98ac-cb13909b4d76",
   "metadata": {},
   "outputs": [],
   "source": []
  },
  {
   "cell_type": "code",
   "execution_count": null,
   "id": "05ca5c97-0da5-457e-925b-7f4ffc5cb9de",
   "metadata": {},
   "outputs": [],
   "source": []
  },
  {
   "cell_type": "code",
   "execution_count": null,
   "id": "84c64f69-b918-4afa-84c4-ae9c98f1caee",
   "metadata": {},
   "outputs": [],
   "source": []
  }
 ],
 "metadata": {
  "kernelspec": {
   "display_name": "Python 3 (ipykernel)",
   "language": "python",
   "name": "python3"
  },
  "language_info": {
   "codemirror_mode": {
    "name": "ipython",
    "version": 3
   },
   "file_extension": ".py",
   "mimetype": "text/x-python",
   "name": "python",
   "nbconvert_exporter": "python",
   "pygments_lexer": "ipython3",
   "version": "3.9.7"
  }
 },
 "nbformat": 4,
 "nbformat_minor": 5
}
