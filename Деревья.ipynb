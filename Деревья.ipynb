{
 "cells": [
  {
   "cell_type": "markdown",
   "id": "bd4d32b0-907c-4dd8-a650-9b6adeba95bf",
   "metadata": {},
   "source": [
    "#### Термины\n",
    "Родитель - \n",
    "Ребенок - \n",
    "Бинарное дерево - про максимальное число детей\n",
    "Нода, узел - \n",
    "Лист - у кого нет детей\n",
    "Корень - у кого нет родителя\n",
    "Поддерево"
   ]
  },
  {
   "cell_type": "markdown",
   "id": "5c9bf4f2-5d77-43cb-9052-ef7a2d207bda",
   "metadata": {
    "jp-MarkdownHeadingCollapsed": true
   },
   "source": [
    "#### Задача 1 (144. Binary Tree Preorder Traversal)"
   ]
  },
  {
   "cell_type": "code",
   "execution_count": null,
   "id": "ce959810-3d90-4a3d-86fa-bd0723fcfd5d",
   "metadata": {},
   "outputs": [],
   "source": [
    "#обходы деревьев(действие->влево->вправо)\n",
    "#чаще всего решается всё рекурсивно\n",
    "#time: O(n)\n",
    "#mem: O(h), h-высота дерева\n",
    "#максимальная h? равна n и по памяти будет O(n) - случай бамбука"
   ]
  },
  {
   "cell_type": "code",
   "execution_count": null,
   "id": "b2a7bcb0-aab1-42b0-a93a-f39a00e7a070",
   "metadata": {},
   "outputs": [],
   "source": [
    "#Definition for a binary tree node\n",
    "#class TreeNode:\n",
    "#    def __init__(self, val=0, left=None, right=None):\n",
    "#        self.val = val\n",
    "#        self.left = left\n",
    "#        self.right = right"
   ]
  },
  {
   "cell_type": "code",
   "execution_count": null,
   "id": "68347c94-a172-4e37-8187-631d87ecaca4",
   "metadata": {},
   "outputs": [],
   "source": [
    "class Solution:\n",
    "    #time: O(n)\n",
    "    #mem: O(h)\n",
    "    def traverse(self, node: Optional[TreeNode], result: List[int]):\n",
    "        if node is None:\n",
    "            return\n",
    "        #Pre order - значит перед тем как рекурсивно идти в левое и правое\n",
    "        #поддерево добавляем значение узла в ответ\n",
    "        result.append(node.val)\n",
    "        self.traverse(node.left, result)\n",
    "        self.traverse(node.right, result)\n",
    "\n",
    "    def preorderTraversal(self, root: Optional[TreeNode]) -> List[int]:\n",
    "        result = []\n",
    "        self.traverse(root, result)\n",
    "        return result\n",
    "        "
   ]
  },
  {
   "cell_type": "markdown",
   "id": "7081356f-37d8-4bfe-8e31-a8e239152088",
   "metadata": {
    "jp-MarkdownHeadingCollapsed": true
   },
   "source": [
    "#### Задача 2 (94. Binary Tree Inorder Traversal)"
   ]
  },
  {
   "cell_type": "code",
   "execution_count": null,
   "id": "e61f1564-5a5c-4feb-b3b6-96f053758c30",
   "metadata": {},
   "outputs": [],
   "source": [
    "#in Order: влево->действие->вправо\n",
    "#меняем местами строки в предыдущей задаче"
   ]
  },
  {
   "cell_type": "markdown",
   "id": "e7b7d9b5-1b4e-4677-9810-aadfe242da6a",
   "metadata": {
    "jp-MarkdownHeadingCollapsed": true
   },
   "source": [
    "#### Задача 3 (145. Binary Tree PostOrder Traversal)"
   ]
  },
  {
   "cell_type": "code",
   "execution_count": null,
   "id": "57fdb578-27c2-4965-a6bc-e21dada0d44e",
   "metadata": {},
   "outputs": [],
   "source": [
    "#postOrder: влево->вправо->действие\n",
    "#меняем местами строки в предыдущей задаче"
   ]
  },
  {
   "cell_type": "markdown",
   "id": "bb643f0c-269e-42e1-8684-eb42bc72ed6c",
   "metadata": {
    "jp-MarkdownHeadingCollapsed": true
   },
   "source": [
    "#### Задача 4 (102. Binary Tree Level Order Traversal)"
   ]
  },
  {
   "cell_type": "code",
   "execution_count": null,
   "id": "27709283-1f11-43f7-8f15-1691576101eb",
   "metadata": {},
   "outputs": [],
   "source": [
    "#разбираем дерево по уровням [[3], [9,20],[8,15,7]]\n",
    "#time: O(n)\n",
    "#mem: O(n)"
   ]
  },
  {
   "cell_type": "code",
   "execution_count": null,
   "id": "498000f0-6b92-4125-aaf3-2826e383ca75",
   "metadata": {},
   "outputs": [],
   "source": [
    "class Solution:\n",
    "    def preOrder(self, node: Treenode, level: int, levels: List[List[int]])->List[List[int]]:\n",
    "        if node is None:\n",
    "            return levels\n",
    "        if level == len(levels):\n",
    "            levels.append([])\n",
    "        #делаем preOrder обход и добавляем вершину на текущий уровень в конец списка\n",
    "        levels[level].append(node.val)\n",
    "        levels = self.preOrder(node.left, level + 1, levels)\n",
    "        levels = self.preOrder(node.right, level + 1, levels)\n",
    "        return levels\n",
    "    def levelOrder(self, root: Optional[TreeNode]) -> List[List[int]]:\n",
    "        return self.preOrder(root, 0, [])"
   ]
  },
  {
   "cell_type": "markdown",
   "id": "c90475b6-87c5-46c4-8b9c-9fadacf0e1a2",
   "metadata": {
    "jp-MarkdownHeadingCollapsed": true
   },
   "source": [
    "#### Задача 5 (199. Binary Tree Right Side View)"
   ]
  },
  {
   "cell_type": "code",
   "execution_count": null,
   "id": "2a322788-1000-485d-97ae-5e8021185d42",
   "metadata": {},
   "outputs": [],
   "source": [
    "#levelOrder, но запоминаем только последнюю вершину"
   ]
  },
  {
   "cell_type": "code",
   "execution_count": null,
   "id": "dabb0f22-b987-45bb-b60c-df41414a0953",
   "metadata": {},
   "outputs": [],
   "source": [
    "class Solution:\n",
    "    #time: O(n)\n",
    "    #mem: O(n), n - максимальная длина дерева\n",
    "    def preOrder(self, node: Optional[TreeNode], level: int, result : List[int]):\n",
    "        if node is None:\n",
    "            return levels\n",
    "        #делаем preOrder обход и на каждом уровне запоминаем последнюю вершину для уровня\n",
    "        if level == len(levels):\n",
    "            levels.append(0)\n",
    "        result[level] = node.val\n",
    "        self.preOrder(node.left, level + 1, levels)\n",
    "        self.preOrder(node.right, level + 1, levels)\n",
    "        return levels\n",
    "    def rightSideView(self, root: Optional[TreeNode]) -> List[int]:\n",
    "        result = []\n",
    "        self.preOrder(root, 0, result)\n",
    "        return result"
   ]
  },
  {
   "cell_type": "markdown",
   "id": "d0c1fcaa-5842-4d2d-a2fa-4b0abe3edb43",
   "metadata": {
    "jp-MarkdownHeadingCollapsed": true
   },
   "source": [
    "#### Задача 6 (101. Symmetric Tree)"
   ]
  },
  {
   "cell_type": "code",
   "execution_count": null,
   "id": "0e483993-8223-40b4-90a3-95128ae61a0b",
   "metadata": {},
   "outputs": [],
   "source": [
    "#создадим два указателя, если тек. вершины одинаковы, то один идет влево, а другой вправо,\n",
    "#а потом возвращаемся(т.е. направление указателей противоположно)"
   ]
  },
  {
   "cell_type": "code",
   "execution_count": null,
   "id": "0f1ea19b-36ba-470a-8245-4d22ab34a3e1",
   "metadata": {},
   "outputs": [],
   "source": [
    "class Solution:\n",
    "    def check(self, l, r):\n",
    "        if l is None or r is None:\n",
    "            return l is None and r is None\n",
    "        if l.val != r.val:\n",
    "            return False\n",
    "        return self.check(l.left, r.right) and self.check(l.right, r.left)\n",
    "    def isSymmetric(self, root: Optional[TreeNode]) -> bool:\n",
    "        if root is None:\n",
    "            return True\n",
    "        return self.check(root.left, root.right)"
   ]
  },
  {
   "cell_type": "markdown",
   "id": "03c04afa-ae00-458c-9cff-bbe16dafdfa5",
   "metadata": {
    "jp-MarkdownHeadingCollapsed": true
   },
   "source": [
    "#### Задача 7 (100. Same Tree)"
   ]
  },
  {
   "cell_type": "code",
   "execution_count": null,
   "id": "015c3878-c0f4-404d-8e93-71d06d8e092b",
   "metadata": {},
   "outputs": [],
   "source": [
    "#как и в прошлой задачи все вершины с указателями сравниваем"
   ]
  },
  {
   "cell_type": "code",
   "execution_count": null,
   "id": "1fcd52b4-aabb-4b97-8b98-9d4940a97d63",
   "metadata": {},
   "outputs": [],
   "source": [
    "class Solution:\n",
    "    def isSameTree(self, p: Optional[TreeNode], q: Optional[TreeNode]) -> bool:\n",
    "        if p is None or q is None:\n",
    "            return p is None and q is None\n",
    "        if p.val != q.val:\n",
    "            return False\n",
    "        return self.isSameTree(p.left, q.left) and self.isSameTree(p.right, q.right)"
   ]
  },
  {
   "cell_type": "markdown",
   "id": "f1a6fa48-3bcf-493b-81e4-e0d866825024",
   "metadata": {
    "jp-MarkdownHeadingCollapsed": true
   },
   "source": [
    "#### Задача 8 (112. Path Sum)"
   ]
  },
  {
   "cell_type": "code",
   "execution_count": null,
   "id": "21655550-39c9-4193-aab3-d3c79599a6c2",
   "metadata": {},
   "outputs": [],
   "source": [
    "#есть target sum, считаются все вершины от корня до листа\n",
    "#используются префиксные суммы"
   ]
  },
  {
   "cell_type": "code",
   "execution_count": null,
   "id": "602e66ad-d95a-455b-bd46-13e77301f63f",
   "metadata": {},
   "outputs": [],
   "source": [
    "class Solution:\n",
    "    def isLeaf(self, node: TreeNode):\n",
    "        return node.left is None and node.right is None\n",
    "    #time: O(n)\n",
    "    #mem: O(n)\n",
    "    #note: можно не заводить доп. переменную, а делать\n",
    "    #targetSum = targetSum - node.val и сравнивать targetSum с 0\n",
    "    def hasSum(self, node:TreeNode, currSum: int, targetSum: int) -> bool:\n",
    "        #currSum-префиксный массив\n",
    "        if node is None:\n",
    "            return False\n",
    "        #если лист дает нужную сумму, то мы нашли ответ\n",
    "        if self.isLeaf(node) and node.val + currSum == targetSum:\n",
    "            return True\n",
    "        isLeftSubTreeHasSum = self.hasSum(node.left, currSum + node.val, targetSum)\n",
    "        isRightSubTreeHasSum = self.hasSum(node.right, currSum + node.val, targetSum)\n",
    "        return isLeftSubTreeHasSum or isRightSubTreeHasSum\n",
    "        \n",
    "    def hasPathSum(self, root: Optional[TreeNode], targetSum: int) -> bool:\n",
    "        return self.hasSum(root, 0, targetSum)"
   ]
  },
  {
   "cell_type": "code",
   "execution_count": null,
   "id": "cdbd4059-e8e3-462a-bd7d-7dfe8ed421e6",
   "metadata": {},
   "outputs": [],
   "source": []
  },
  {
   "cell_type": "code",
   "execution_count": null,
   "id": "77696c65-51bd-45a2-aafb-721c8f2e64b0",
   "metadata": {},
   "outputs": [],
   "source": []
  },
  {
   "cell_type": "code",
   "execution_count": null,
   "id": "2459f2c1-2088-485f-be72-fe70a9039eea",
   "metadata": {},
   "outputs": [],
   "source": []
  },
  {
   "cell_type": "code",
   "execution_count": null,
   "id": "8a5ba161-e65e-42fd-b0b1-96555d4bd254",
   "metadata": {},
   "outputs": [],
   "source": []
  },
  {
   "cell_type": "code",
   "execution_count": null,
   "id": "c3e0e55d-51dd-4f80-8fc0-c541e982e366",
   "metadata": {},
   "outputs": [],
   "source": []
  }
 ],
 "metadata": {
  "kernelspec": {
   "display_name": "Python 3 (ipykernel)",
   "language": "python",
   "name": "python3"
  },
  "language_info": {
   "codemirror_mode": {
    "name": "ipython",
    "version": 3
   },
   "file_extension": ".py",
   "mimetype": "text/x-python",
   "name": "python",
   "nbconvert_exporter": "python",
   "pygments_lexer": "ipython3",
   "version": "3.9.7"
  }
 },
 "nbformat": 4,
 "nbformat_minor": 5
}
