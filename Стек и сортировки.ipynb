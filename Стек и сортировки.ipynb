{
 "cells": [
  {
   "cell_type": "markdown",
   "id": "798e4c56-e4ed-481e-9fd4-f5cd90454bcc",
   "metadata": {},
   "source": [
    "### Стек"
   ]
  },
  {
   "cell_type": "code",
   "execution_count": null,
   "id": "94e0befb-28ca-4735-be4b-732c7d8e0bac",
   "metadata": {},
   "outputs": [],
   "source": [
    "#stack -\n",
    "#top - увидим верхний элемент\n",
    "#pop-удаляем верхний элемент\n",
    "#push-кладет на вершину\n",
    "#size-чтоб детектить закончился ли стэк"
   ]
  },
  {
   "cell_type": "markdown",
   "id": "44522c25-6bff-4ebf-b261-60b8fbc20567",
   "metadata": {},
   "source": [
    "#### Задача 1 (20. Valid Parentheses)"
   ]
  },
  {
   "cell_type": "code",
   "execution_count": null,
   "id": "6f7cf76d-58ea-44dd-9bc7-0f84111193db",
   "metadata": {},
   "outputs": [],
   "source": [
    "#валидная ли скобочная последовательность\n",
    "#открывающая и закрывающая скобка должны быть одинаковы\n",
    "#если скобка открывающая то кладем её в стек\n",
    "#({[]()}())\n",
    "#stack -[(,{,[\n",
    "#1. Стэк пуст?\n",
    "#2. pop and compare"
   ]
  },
  {
   "cell_type": "code",
   "execution_count": null,
   "id": "268d37df-adec-445f-a957-d22cf7f8459e",
   "metadata": {},
   "outputs": [],
   "source": [
    "class Solution:\n",
    "    # time: O(n)\n",
    "    # mem: O(n)\n",
    "    def isValid(self, s: str) -> bool:\n",
    "        stack = []\n",
    "        pairs = {'{':'}', '(':')', '[':']'}\n",
    "        for char in s:\n",
    "            if char in pairs:\n",
    "                # если скобка открытая - просто добавляем в стек\n",
    "                stack.append(char)\n",
    "                continue\n",
    "\n",
    "            # перед нами закрывающаяся скобка, но стек пуст\n",
    "            if len(stack) == 0:\n",
    "                return False\n",
    "            # удаляем последний элемент из стека\n",
    "            lastChar = stack.pop()\n",
    "            # проверяем что последний элемент в стеке и текущий образуют пару\n",
    "            # если пару не образуют, то вернем False\n",
    "            if pairs[lastChar] != char:\n",
    "                return False  \n",
    "        return len(stack) == 0"
   ]
  },
  {
   "cell_type": "markdown",
   "id": "18a5f0e2-4a31-4de3-8444-3aa5be1e8a55",
   "metadata": {},
   "source": [
    "#### Задача 2 ( Balanced Parantheses!)"
   ]
  },
  {
   "cell_type": "code",
   "execution_count": null,
   "id": "e0ed200e-7c45-4a4b-bb9e-6f8f22c75043",
   "metadata": {},
   "outputs": [],
   "source": [
    "class Solution:\n",
    "    # @param A : string\n",
    "    # @return an integer\n",
    "    \n",
    "    # time: O(n)\n",
    "    # mem: O(1)\n",
    "    def solve(self, A):\n",
    "        # balance - делаем +1 если открывающаяся и -1 если закрывающаяся\n",
    "        balance = 0\n",
    "        for char in A:\n",
    "            balance = balance + 1 if char == '(' else balance - 1\n",
    "            # если balance < 0 значит недостаточно открывающих скобок и закрывающих больше \n",
    "            if balance < 0:\n",
    "                return 0\n",
    "        return int(balance == 0)"
   ]
  },
  {
   "cell_type": "markdown",
   "id": "b2605e50-7ffc-472d-8e68-c127221498e0",
   "metadata": {},
   "source": [
    "#### Задача 3 (1249. Minimum Remove to Make Valid Parentheses)"
   ]
  },
  {
   "cell_type": "code",
   "execution_count": null,
   "id": "090ed1d1-6f15-4d47-af08-8d1077c17003",
   "metadata": {},
   "outputs": [],
   "source": [
    "#стэк - храним позиции открывающихся скобок\n",
    "#если открывающееся скобка - заносим в стек\n",
    "#если закрывающееся скобка и стек пуст, то эту скобку удаляем\n",
    "#если закрывающая и стэк не пуст, то удаляем последнюю позицию в стеке\n",
    "#всё что в конце остается в стеке - открытые скобки, у которых нет закрывающихся и мы их\n",
    "#удаляем"
   ]
  },
  {
   "cell_type": "code",
   "execution_count": null,
   "id": "213ba472-9bf0-40c1-93ca-9d74351ad92a",
   "metadata": {},
   "outputs": [],
   "source": [
    "class Solution:\n",
    "    # time: O(n)\n",
    "    # mem: O(n) - в python лучше не получится т к нужна\n",
    "    # обязательно новая строка для ответа (строки не меняются)\n",
    "    def minRemoveToMakeValid(self, s: str) -> str:\n",
    "        # в python строки не изменяемы поэтому нужно сделать список из символов\n",
    "        # который уже можно менять\n",
    "        result = list(s)#['l','e','e'...]\n",
    "        stack = [] # храним индексы для символа (\n",
    "        for i in range(len(result)):\n",
    "            char = result[i]\n",
    "            if char == '(':\n",
    "                stack.append(i)\n",
    "            elif char == ')' and len(stack) == 0:\n",
    "                # скобка \")\" лишняя и должна быть удалена\n",
    "                result[i] = ''\n",
    "            elif char == ')' and len(stack) != 0:\n",
    "                stack.pop()\n",
    "\n",
    "        # проходимся по всем лишним скобкам \"(\" и удаляем их\n",
    "        for i in stack:\n",
    "            result[i] = \"\"\n",
    "\n",
    "        # делаем строку из элементов списка \n",
    "        return \"\".join(result)"
   ]
  },
  {
   "cell_type": "markdown",
   "id": "a7cd22fd-1d8c-45a1-8049-94065af8bd0c",
   "metadata": {},
   "source": [
    "#### Задача 4 ( 739. Daily Temperatures )"
   ]
  },
  {
   "cell_type": "code",
   "execution_count": null,
   "id": "a231c368-8850-4af2-ab93-50136b41101c",
   "metadata": {},
   "outputs": [],
   "source": [
    "#есть температура, нужно сказать через сколько темпера. станет больше текущей\n",
    "#stack = [73,0]->1-0=1->[73,1]\n",
    "#\n",
    "#\n",
    "#"
   ]
  },
  {
   "cell_type": "code",
   "execution_count": null,
   "id": "67eaf5c5-5101-4b5f-ba2a-c45ecb89e32a",
   "metadata": {},
   "outputs": [],
   "source": [
    "class Solution:\n",
    "    # time: O(n)\n",
    "    # mem: O(n)\n",
    "    def dailyTemperatures(self, temperatures: List[int]) -> List[int]:\n",
    "        result = [0] * len(temperatures)\n",
    "        # в стеке всегда храним убывающую последовательность\n",
    "        # например: [[1, 20], [3, 8], [5, 1]]\n",
    "        # [1, 20] -> в 1 день температура была 20\n",
    "        stack = []\n",
    "        for i, temperature in enumerate(temperatures):\n",
    "            # пока текущая температура больше чем температура в стеке\n",
    "            # вынимаем удаляем из стека элементы и\n",
    "            # вычисляем для них ответ\n",
    "            while len(stack) > 0 and stack[-1][1] < temperature:\n",
    "                idx, _ = stack.pop()\n",
    "                result[idx] = i - idx\n",
    "            stack.append([i, temperature])\n",
    "        return result"
   ]
  },
  {
   "cell_type": "markdown",
   "id": "a6abf49a-64e8-4baf-8d0a-2a53e0bc0cbe",
   "metadata": {},
   "source": [
    "#### Задача 5 ( Bubble sort)"
   ]
  },
  {
   "cell_type": "code",
   "execution_count": null,
   "id": "978ae3d7-c60f-4169-b7c3-7fc11fed8463",
   "metadata": {},
   "outputs": [],
   "source": [
    "#вариант без оптимизации\n",
    "class Solution:\n",
    "    #Bubble Sort\n",
    "    #time: O(n*n)\n",
    "    #mem: O(1)\n",
    "    def sortArray(self, nums: List[int]) -> List[int]:\n",
    "        for i in range(len(nums)):\n",
    "            for j in range(len(nums)-1):\n",
    "                if nums[j]>nums[j+1]:\n",
    "                    nums[j],nums[j+1]=nums[j+1],nums[j]\n",
    "        return nums"
   ]
  },
  {
   "cell_type": "code",
   "execution_count": null,
   "id": "ccace5f7-7864-4881-ad50-9b86cfd0fab6",
   "metadata": {},
   "outputs": [],
   "source": [
    "#более оптимальная версия пузырька\n",
    "class Solution:\n",
    "    def SortArray(self, nums: List[int])-> List[int]:\n",
    "        swapCount = -1\n",
    "        i = 0\n",
    "        while swapCount != 0:\n",
    "            swapCount = 0\n",
    "            for j in range(len(nums)-i-1):\n",
    "                if nums[j]>nums[j+1]:\n",
    "                    swapCount += 1\n",
    "                    nums[j], nums[j+1] = nums[j+1], nums[j]\n",
    "            i += 1\n",
    "        return nums"
   ]
  },
  {
   "cell_type": "markdown",
   "id": "301e251e-8553-4921-8d63-d9520af76664",
   "metadata": {},
   "source": [
    "#### Задача 6 ( Merge Sort)"
   ]
  },
  {
   "cell_type": "code",
   "execution_count": null,
   "id": "0d0d42e6-6f15-460a-a44c-b60d4d01d607",
   "metadata": {},
   "outputs": [],
   "source": [
    "#можем массив по какому-то признаку разделить на два"
   ]
  },
  {
   "cell_type": "code",
   "execution_count": null,
   "id": "294c3b94-64fa-4215-b083-3392bf03a49f",
   "metadata": {},
   "outputs": [],
   "source": [
    "class Solution:\n",
    "    # делаем слияние списков:\n",
    "    # arr1 = [1, 2, 8] arr2 = [3, 100]\n",
    "    # result = [1, 2, 3, 8, 100]\n",
    "    # time: O(n + m)\n",
    "    # mem: O(n + m)\n",
    "    def merge(self, arr1: List[int], arr2: List[int]) -> List[int]:\n",
    "        p1, p2 = 0, 0\n",
    "        result = []\n",
    "        while p1 != len(arr1) or p2 != len(arr2):\n",
    "            if p2 >= len(arr2) or p1 < len(arr1) and arr1[p1] <= arr2[p2]:\n",
    "                result.append(arr1[p1])\n",
    "                p1 += 1\n",
    "            else:\n",
    "                result.append(arr2[p2])\n",
    "                p2 += 1\n",
    "        return result\n",
    "\n",
    "    # Merge sort\n",
    "    # time:      O(n log n)\n",
    "    # mem (доп): O(n)\n",
    "    # Note: по памяти можно оптимальнее сделать\n",
    "    # сейчас много копирований лишних\n",
    "    def sortArray(self, nums: List[int]) -> List[int]:\n",
    "        if len(nums) == 1:\n",
    "            return nums\n",
    "\n",
    "        leftPart = self.sortArray(nums[:len(nums) // 2])#слайсы копируют память\n",
    "        rightPart = self.sortArray(nums[len(nums) // 2:])\n",
    "        return self.merge(leftPart, rightPart)"
   ]
  },
  {
   "cell_type": "code",
   "execution_count": null,
   "id": "c1549648-8e22-47e6-a0f7-2f91883296fc",
   "metadata": {},
   "outputs": [],
   "source": [
    "#merge только пересекающиеся куски, если есть проблема с памятью"
   ]
  },
  {
   "cell_type": "markdown",
   "id": "5ef8d56b-c7e8-415f-8fa8-d33fc3d7604e",
   "metadata": {},
   "source": [
    "#### Задача 7 ( Quick sort)"
   ]
  },
  {
   "cell_type": "markdown",
   "id": "8aab3c4c-4a52-43c8-886b-a5a6d762e880",
   "metadata": {},
   "source": [
    "1. Pivot - т.е. справа элементы, которые больше числа, а слева меньше\n",
    "2. правый указатель двигается пока не найдет эл. <= pivot\n",
    "3. левый указатель пока не найдет больше pivot\n",
    "4. когда найдет меняем местами\n",
    "5. pivot выбираем не крайний правый элемент, а рандомный и загоняем этот элемент вправо\n",
    "6. MEDIAN OF MEDIAN оптимальный алгоритм поиска pivot"
   ]
  },
  {
   "cell_type": "code",
   "execution_count": null,
   "id": "aa46719a-1f2a-433b-8481-3b5091042cf6",
   "metadata": {},
   "outputs": [],
   "source": [
    "class Solution:\n",
    "    # выбираем pivot рандомно, чтобы улучшить время\n",
    "    # быстрой сортировки\n",
    "    # Note: l - включительно, r - не включительно\n",
    "    def getPivot(self, arr: list[int], l: int, r: int):\n",
    "        # random.randint выбирает рандомное число между границами\n",
    "        # границы включены\n",
    "        pivotIdx = random.randint(l, r - 1)\n",
    "        pivot = arr[pivotIdx]\n",
    "        return pivot, pivotIdx\n",
    "\n",
    "    # time: O(rIdx - lIdx)\n",
    "    # mem:  O(1)\n",
    "    # Note: [lIdx, rIdx) - полуинтервал, lIdx включаем, а rIdx - нет\n",
    "    def partition(self, arr: list[int], lIdx: int, rIdx: int) -> int:\n",
    "        # находим pivot\n",
    "        pivot, pivotIdx = self.getPivot(arr, lIdx, rIdx)\n",
    "\n",
    "        # ставим pivot на самое левое место (pivot не будет\n",
    "        # учавствовать в перестановке элементов т е его позиция\n",
    "        # после while не изменится, для этого делаем l = lIdx + 1)\n",
    "\n",
    "        # r = rIdx - 1 делаем чтобы r указывал на последний элемент\n",
    "        # (rIdx - моет указывать на не существующий элемент)\n",
    "        arr[lIdx], arr[pivotIdx] = arr[pivotIdx], arr[lIdx]\n",
    "        l, r = lIdx + 1, rIdx - 1\n",
    "\n",
    "        # делим массив на 2 партиции (где элементы)\n",
    "        # 1 part - элементы <= pivot\n",
    "        # 2 part - элементы >= pivot\n",
    "        while l <= r:\n",
    "            if arr[l] < pivot:\n",
    "                l += 1\n",
    "            elif arr[r] > pivot:\n",
    "                r -= 1\n",
    "            else:\n",
    "                arr[l], arr[r] = arr[r], arr[l]\n",
    "                l += 1; r -= 1\n",
    "        # ставим pivot на нужное место\n",
    "        # это будет гарантированно правильнам местом в отсортированном\n",
    "        # массиве т е индекс где стоит pivot (r) можно будет\n",
    "        # выкинуть из рекурсии (не запускать для него сного qsort)\n",
    "        arr[lIdx], arr[r] = arr[r], arr[lIdx]\n",
    "        return r\n",
    "\n",
    "    # time avg:      O(n log n)\n",
    "    # mem (доп) avg: O(log n)\n",
    "    def qsort(self, nums: list[int], l: int, r: int) -> list[int]:\n",
    "        if l >= r:\n",
    "            return nums\n",
    "        # разделяем массив на 2 части\n",
    "        pivotIdx = self.partition(nums, l, r)\n",
    "        # рекурсивно сортируем 1 part (pivotIdx не включаем т к правая\n",
    "        # граница идет не включительно)\n",
    "        self.qsort(nums, l, pivotIdx)#массив изменяется по ссылки, а присвоения для nums нет\n",
    "        #поэтому можно даже не возвращать nums\n",
    "        # рекурсивно сортируем 2 part (pivotIdx не включаем)\n",
    "        self.qsort(nums, pivotIdx + 1, r)\n",
    "        return nums\n",
    "\n",
    "    # Quick sort\n",
    "    # time avg:       O(n log n)\n",
    "    # time wors:      O(n ** 2)\n",
    "    # mem (доп) avg:  O(log n)\n",
    "    # mem (доп) wors: O(N)\n",
    "    def sortArray(self, nums: list[int]) -> list[int]:\n",
    "        return self.qsort(nums, 0, len(nums))"
   ]
  },
  {
   "cell_type": "code",
   "execution_count": null,
   "id": "b1d33232-902e-42c5-a263-8c1d6a14d932",
   "metadata": {},
   "outputs": [],
   "source": [
    "#максимально оптимальный merge sort - 3-way merge sort\n",
    "#если много одинаковых элементов, то pivot - это все одинаковые элементы\n",
    "#и они все являются pivot"
   ]
  },
  {
   "cell_type": "markdown",
   "id": "50df3481-62e5-4730-b40f-e7aca62567f5",
   "metadata": {},
   "source": [
    "Вопрос: Какая временная сложность у quick sort? #авито\n",
    "Ответ: …\n",
    " Вопрос: Как отсортировать массив, который не помещается в память? #сбердевайсы\n",
    " Вопрос: Когда применять квадратичные сортировки на практике? #отменя\n",
    "Когда размер массива не большой (32 или меньше)\n",
    "Когда не хочется тратить дополнительную память вообще\n",
    "Когда рекурсивная сортировка тратит слишком много стек фреймов (например, можно в merge sort если меньше 32 элементов делать bubble sort)"
   ]
  },
  {
   "cell_type": "code",
   "execution_count": null,
   "id": "6b556671-e328-4f02-bef0-524a2c082e0c",
   "metadata": {},
   "outputs": [],
   "source": []
  },
  {
   "cell_type": "code",
   "execution_count": null,
   "id": "2fce3323-eb12-4add-b9ac-2ffd8ab3caf0",
   "metadata": {},
   "outputs": [],
   "source": []
  },
  {
   "cell_type": "code",
   "execution_count": null,
   "id": "80196a09-a734-4da0-92b6-15df4bf53977",
   "metadata": {},
   "outputs": [],
   "source": []
  },
  {
   "cell_type": "code",
   "execution_count": null,
   "id": "5823f3f9-1f6a-4fc2-b28e-2c55584235a5",
   "metadata": {},
   "outputs": [],
   "source": []
  },
  {
   "cell_type": "code",
   "execution_count": null,
   "id": "fcfd9da9-94cf-4896-a642-f7604a8dda06",
   "metadata": {},
   "outputs": [],
   "source": []
  },
  {
   "cell_type": "code",
   "execution_count": null,
   "id": "8261cd05-bfbc-4484-8827-f19afaaf509d",
   "metadata": {},
   "outputs": [],
   "source": []
  },
  {
   "cell_type": "code",
   "execution_count": null,
   "id": "7bfb72e6-34a7-4e73-b75e-3068f7e8cc72",
   "metadata": {},
   "outputs": [],
   "source": []
  },
  {
   "cell_type": "code",
   "execution_count": null,
   "id": "ad94e50d-bd69-471c-a246-80d4f4a1dc6c",
   "metadata": {},
   "outputs": [],
   "source": []
  },
  {
   "cell_type": "code",
   "execution_count": null,
   "id": "50a39234-9c7d-498b-b18a-55e9b54e7cbb",
   "metadata": {},
   "outputs": [],
   "source": []
  },
  {
   "cell_type": "code",
   "execution_count": null,
   "id": "dd5f60f3-7683-4adf-a25e-9a18268feda8",
   "metadata": {},
   "outputs": [],
   "source": []
  },
  {
   "cell_type": "code",
   "execution_count": null,
   "id": "d809ae75-9c3b-4073-bfbb-d348d454f97e",
   "metadata": {},
   "outputs": [],
   "source": []
  }
 ],
 "metadata": {
  "kernelspec": {
   "display_name": "Python 3 (ipykernel)",
   "language": "python",
   "name": "python3"
  },
  "language_info": {
   "codemirror_mode": {
    "name": "ipython",
    "version": 3
   },
   "file_extension": ".py",
   "mimetype": "text/x-python",
   "name": "python",
   "nbconvert_exporter": "python",
   "pygments_lexer": "ipython3",
   "version": "3.9.7"
  }
 },
 "nbformat": 4,
 "nbformat_minor": 5
}
